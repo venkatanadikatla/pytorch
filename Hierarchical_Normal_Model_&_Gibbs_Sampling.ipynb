{
  "nbformat": 4,
  "nbformat_minor": 0,
  "metadata": {
    "colab": {
      "provenance": [],
      "authorship_tag": "ABX9TyPQxLm+Ss7mZDeSEXskDEyc",
      "include_colab_link": true
    },
    "kernelspec": {
      "name": "python3",
      "display_name": "Python 3"
    },
    "language_info": {
      "name": "python"
    }
  },
  "cells": [
    {
      "cell_type": "markdown",
      "metadata": {
        "id": "view-in-github",
        "colab_type": "text"
      },
      "source": [
        "<a href=\"https://colab.research.google.com/github/venkatanadikatla/pytorch/blob/main/Hierarchical_Normal_Model_%26_Gibbs_Sampling.ipynb\" target=\"_parent\"><img src=\"https://colab.research.google.com/assets/colab-badge.svg\" alt=\"Open In Colab\"/></a>"
      ]
    },
    {
      "cell_type": "markdown",
      "source": [
        "**Data Overview:**\n",
        "The dataset consists of annual death counts from five causes for the age group 25–34 over five years (2018–2022). These causes are:\n",
        "\n",
        "Accidents, Homicide, Suicide, Heart Disease, Malignant Neoplasms\n",
        "The goal is to model these death counts using three approaches:\n",
        "\n",
        "\n",
        "*   Separate Gaussian model\n",
        "\n",
        "*   Pooled Gaussian model\n",
        "*   Hierarchical Gaussian model\n",
        "\n",
        "**Why Gibbs Sampling:**\n",
        "Gibbs sampling is a special case of the Metropolis-Hastings algorithm used for Bayesian inference, particularly when the full conditional distributions of the variables in a model can be easily sampled.\n",
        "\n",
        "**a. Separate Model:** In a separate model, we treat each group or data source independently. When using Gibbs sampling here, each group's parameters are sampled independently from their respective conditional distributions.\n",
        "\n",
        "\n",
        "\n",
        "*   **Specific to the model:**  Sample the parameters for each cause of death independently. Each death cause has its own parameters, which could lead to high variability in small samples.\n",
        "\n",
        "\n",
        "**b. Pooled Model:** In a pooled model, the data from different groups are combined (or \"pooled\") and treated as if they came from a single distribution. Gibbs sampling in this model would sample the parameters from a single conditional distribution across all data. This reduces variance but may miss group-specific effects, assuming all groups are homogenous.\n",
        "\n",
        "*   **Specific to the model:**  Pooled Model (Gibbs): Sample from a common parameter for all causes, assuming homogeneity.\n",
        "\n",
        "**c. Hierarchical Model** (or Partially Pooled Model): In hierarchical models, group-level parameters (for individual groups) are treated as random variables drawn from a higher-level (hyperparameter) distribution. Gibbs sampling here involves sampling both the group-level parameters and the hyperparameters in a conditional step-by-step process. This approach balances between separate and pooled models, allowing group-specific variability while sharing information across groups.\n",
        "\n",
        "*   **Specific to the model:** Sample group-specific parameters and hyperparameters, allowing for shared information while maintaining some independence between causes.\n",
        "\n",
        "\n"
      ],
      "metadata": {
        "id": "htIVRYa-bLJz"
      }
    },
    {
      "cell_type": "markdown",
      "source": [
        "**General Setup:**"
      ],
      "metadata": {
        "id": "h6mZm_uvxnz4"
      }
    },
    {
      "cell_type": "code",
      "source": [
        "import numpy as np\n",
        "import matplotlib.pyplot as plt\n",
        "from scipy.stats import norm, gamma\n",
        "\n",
        "# Death data for the five causes from 2018 to 2022\n",
        "deaths = np.array([[33058, 34452, 31315, 24516, 24614],   # Accidents\n",
        "                   [6712, 7571, 31315, 5341, 5234],       # Homicide\n",
        "                   [8663, 8862, 8454, 8059, 8020],        # Suicide\n",
        "                   [3789, 4155, 3984, 3495, 3561],        # Heart Disease\n",
        "                   [3641, 3615, 3573, 3577, 3684]])       # Malignant Neoplasms\n",
        "\n",
        "n_years, n_causes = deaths.shape"
      ],
      "metadata": {
        "id": "VkSRFaVwqAkl"
      },
      "execution_count": 1,
      "outputs": []
    },
    {
      "cell_type": "markdown",
      "source": [
        "**1. Separate Gaussian Model:** Each cause has its own mean and shared variance"
      ],
      "metadata": {
        "id": "PiFHsp-eycE2"
      }
    },
    {
      "cell_type": "code",
      "source": [],
      "metadata": {
        "id": "l4CCM_hT2ap5"
      },
      "execution_count": null,
      "outputs": []
    },
    {
      "cell_type": "code",
      "source": [],
      "metadata": {
        "id": "V4N-nW364M1G"
      },
      "execution_count": null,
      "outputs": []
    }
  ]
}