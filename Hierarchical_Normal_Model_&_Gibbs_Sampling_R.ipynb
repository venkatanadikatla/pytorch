{
  "nbformat": 4,
  "nbformat_minor": 0,
  "metadata": {
    "colab": {
      "provenance": [],
      "authorship_tag": "ABX9TyPrj73v/ckLvLL7ik/6s4UN",
      "include_colab_link": true
    },
    "kernelspec": {
      "name": "ir",
      "display_name": "R"
    },
    "language_info": {
      "name": "R"
    }
  },
  "cells": [
    {
      "cell_type": "markdown",
      "metadata": {
        "id": "view-in-github",
        "colab_type": "text"
      },
      "source": [
        "<a href=\"https://colab.research.google.com/github/venkatanadikatla/pytorch/blob/main/Hierarchical_Normal_Model_%26_Gibbs_Sampling_R.ipynb\" target=\"_parent\"><img src=\"https://colab.research.google.com/assets/colab-badge.svg\" alt=\"Open In Colab\"/></a>"
      ]
    },
    {
      "cell_type": "markdown",
      "source": [
        "**Data Overview:**\n",
        "The dataset consists of annual death counts from five causes for the age group 25–34 over five years (2018–2022). These causes are:\n",
        "\n",
        "Accidents, Homicide, Suicide, Heart Disease, Malignant Neoplasms\n",
        "The goal is to model these death counts using three approaches:\n",
        "\n",
        "\n",
        "*   Separate Gaussian model\n",
        "\n",
        "*   Pooled Gaussian model\n",
        "*   Hierarchical Gaussian model\n",
        "\n",
        "**Why Gibbs Sampling:**\n",
        "Gibbs sampling is a special case of the Metropolis-Hastings algorithm used for Bayesian inference, particularly when the full conditional distributions of the variables in a model can be easily sampled.\n",
        "\n",
        "**a. Separate Model:** In a separate model, we treat each group or data source independently. When using Gibbs sampling here, each group's parameters are sampled independently from their respective conditional distributions.\n",
        "\n",
        "\n",
        "\n",
        "*   **Specific to the model:**  Sample the parameters for each cause of death independently. Each death cause has its own parameters, which could lead to high variability in small samples.\n",
        "\n",
        "\n",
        "**b. Pooled Model:** In a pooled model, the data from different groups are combined (or \"pooled\") and treated as if they came from a single distribution. Gibbs sampling in this model would sample the parameters from a single conditional distribution across all data. This reduces variance but may miss group-specific effects, assuming all groups are homogenous.\n",
        "\n",
        "*   **Specific to the model:**  Pooled Model (Gibbs): Sample from a common parameter for all causes, assuming homogeneity.\n",
        "\n",
        "**c. Hierarchical Model** (or Partially Pooled Model): In hierarchical models, group-level parameters (for individual groups) are treated as random variables drawn from a higher-level (hyperparameter) distribution. Gibbs sampling here involves sampling both the group-level parameters and the hyperparameters in a conditional step-by-step process. This approach balances between separate and pooled models, allowing group-specific variability while sharing information across groups.\n",
        "\n",
        "*   **Specific to the model:** Sample group-specific parameters and hyperparameters, allowing for shared information while maintaining some independence between causes.\n",
        "\n",
        "\n"
      ],
      "metadata": {
        "id": "htIVRYa-bLJz"
      }
    },
    {
      "cell_type": "code",
      "execution_count": null,
      "metadata": {
        "colab": {
          "base_uri": "https://localhost:8080/"
        },
        "collapsed": true,
        "id": "2QWzYA2OZjZ0",
        "outputId": "d99c05ff-53af-4859-cc6b-64e8f02b936c"
      },
      "outputs": [
        {
          "output_type": "stream",
          "name": "stdout",
          "text": [
            "Reading package lists... Done\n",
            "Building dependency tree... Done\n",
            "Reading state information... Done\n",
            "r-base is already the newest version (4.4.1-3.2204.0).\n",
            "0 upgraded, 0 newly installed, 0 to remove and 49 not upgraded.\n"
          ]
        }
      ],
      "source": [
        "!apt-get install -y r-base\n"
      ]
    },
    {
      "cell_type": "code",
      "source": [
        "# Install the IRkernel package for R support\n",
        "!R -e \"IRkernel::installspec(user = FALSE)\"\n"
      ],
      "metadata": {
        "colab": {
          "base_uri": "https://localhost:8080/"
        },
        "collapsed": true,
        "id": "5xDHGV1XlkgV",
        "outputId": "492ae828-9225-4fce-ce6c-ac087048a779"
      },
      "execution_count": null,
      "outputs": [
        {
          "output_type": "stream",
          "name": "stdout",
          "text": [
            "\n",
            "R version 4.4.1 (2024-06-14) -- \"Race for Your Life\"\n",
            "Copyright (C) 2024 The R Foundation for Statistical Computing\n",
            "Platform: x86_64-pc-linux-gnu\n",
            "\n",
            "R is free software and comes with ABSOLUTELY NO WARRANTY.\n",
            "You are welcome to redistribute it under certain conditions.\n",
            "Type 'license()' or 'licence()' for distribution details.\n",
            "\n",
            "  Natural language support but running in an English locale\n",
            "\n",
            "R is a collaborative project with many contributors.\n",
            "Type 'contributors()' for more information and\n",
            "'citation()' on how to cite R or R packages in publications.\n",
            "\n",
            "Type 'demo()' for some demos, 'help()' for on-line help, or\n",
            "'help.start()' for an HTML browser interface to help.\n",
            "Type 'q()' to quit R.\n",
            "\n",
            "> IRkernel::installspec(user = FALSE)\n",
            "\u001b[?25h> \n",
            "> \n",
            "\u001b[?25h"
          ]
        }
      ]
    },
    {
      "cell_type": "code",
      "source": [
        "# Install dependencies and RStan\n",
        "install.packages(\"rstan\", repos = \"https://cloud.r-project.org/\", dependencies=TRUE)\n",
        "\n",
        "# Load the library\n",
        "library(rstan)\n"
      ],
      "metadata": {
        "colab": {
          "base_uri": "https://localhost:8080/"
        },
        "collapsed": true,
        "id": "ru3LMKIylk8I",
        "outputId": "ad76cf0c-cff2-4e98-efbd-1f36f073f7e6"
      },
      "execution_count": null,
      "outputs": [
        {
          "output_type": "stream",
          "name": "stderr",
          "text": [
            "Installing package into ‘/usr/local/lib/R/site-library’\n",
            "(as ‘lib’ is unspecified)\n",
            "\n",
            "also installing the dependencies ‘numDeriv’, ‘lazyeval’, ‘abind’, ‘tensorA’, ‘distributional’, ‘crosstalk’, ‘zoo’, ‘plyr’, ‘igraph’, ‘checkmate’, ‘matrixStats’, ‘posterior’, ‘colourpicker’, ‘DT’, ‘dygraphs’, ‘gtools’, ‘markdown’, ‘reshape2’, ‘shinyjs’, ‘shinythemes’, ‘threejs’, ‘xts’, ‘ggridges’, ‘StanHeaders’, ‘inline’, ‘gridExtra’, ‘RcppParallel’, ‘loo’, ‘QuickJSR’, ‘RcppEigen’, ‘BH’, ‘shinystan’, ‘bayesplot’, ‘rstantools’, ‘coda’, ‘V8’\n",
            "\n",
            "\n",
            "Loading required package: StanHeaders\n",
            "\n",
            "\n",
            "rstan version 2.32.6 (Stan version 2.32.2)\n",
            "\n",
            "\n",
            "For execution on a local, multicore CPU with excess RAM we recommend calling\n",
            "options(mc.cores = parallel::detectCores()).\n",
            "To avoid recompilation of unchanged Stan programs, we recommend calling\n",
            "rstan_options(auto_write = TRUE)\n",
            "For within-chain threading using `reduce_sum()` or `map_rect()` Stan functions,\n",
            "change `threads_per_chain` option:\n",
            "rstan_options(threads_per_chain = 1)\n",
            "\n",
            "\n"
          ]
        }
      ]
    },
    {
      "cell_type": "markdown",
      "source": [
        "**General Setup:**"
      ],
      "metadata": {
        "id": "h6mZm_uvxnz4"
      }
    },
    {
      "cell_type": "code",
      "source": [
        "# Death data for the five causes from 2018 to 2022\n",
        "deaths <- matrix(c(33058, 34452, 31315, 24516, 24614,   # Accidents\n",
        "                   6712, 7571, 31315, 5341, 5234,       # Homicide\n",
        "                   8663, 8862, 8454, 8059, 8020,       # Suicide\n",
        "                   3789, 4155, 3984, 3495, 3561,       # Heart Disease\n",
        "                   3641, 3615, 3573, 3577, 3684),      # Malignant Neoplasms\n",
        "                 ncol = 5, byrow = TRUE)\n",
        "\n",
        "years <- c(2018, 2019, 2020, 2021, 2022)\n",
        "n_years <- length(years)\n",
        "n_causes <- 5\n"
      ],
      "metadata": {
        "id": "VkSRFaVwqAkl"
      },
      "execution_count": 20,
      "outputs": []
    },
    {
      "cell_type": "markdown",
      "source": [
        "**1. Separate Gaussian Model:** Each cause has its own mean and shared variance"
      ],
      "metadata": {
        "id": "PiFHsp-eycE2"
      }
    },
    {
      "cell_type": "code",
      "source": [
        "separate_model_code <- \"\n",
        "data {\n",
        "  int<lower=0> N;   // number of years\n",
        "  int<lower=0> C;   // number of causes\n",
        "  matrix[N, C] y;   // data for deaths\n",
        "}\n",
        "parameters {\n",
        "  vector[C] mu;     // mean for each cause\n",
        "  real<lower=0> sigma;   // common standard deviation\n",
        "}\n",
        "model {\n",
        "  for (n in 1:N) {\n",
        "    for (c in 1:C) {\n",
        "      y[n, c] ~ normal(mu[c], sigma);  // Separate normal distribution for each cause\n",
        "    }\n",
        "  }\n",
        "}\n",
        "generated quantities {\n",
        "  real mu_post[C];\n",
        "  real y_pred[C];\n",
        "\n",
        "  // Posterior mean of the causes\n",
        "  for (c in 1:C)\n",
        "    mu_post[c] = mu[c];\n",
        "\n",
        "  // Predictive distribution for a hypothetical 6th cause\n",
        "  for (c in 1:C)\n",
        "    y_pred[c] = normal_rng(mu[c], sigma);\n",
        "}\n",
        "\"\n",
        "\n",
        "\n",
        "# Prepare data for Stan\n",
        "separate_data <- list(N = n_years, C = n_causes, y = deaths)\n",
        "\n",
        "# Fit the model using Stan\n",
        "separate_fit <- stan(model_code = separate_model_code, data = separate_data,\n",
        "                     iter = 2000, chains = 4)\n",
        "\n",
        "# Extract results\n",
        "print(separate_fit)\n",
        "\n"
      ],
      "metadata": {
        "id": "bgDonGyJxwpB",
        "colab": {
          "base_uri": "https://localhost:8080/"
        },
        "outputId": "0e1b739a-199c-46b1-d775-c9367f3dad95"
      },
      "execution_count": 24,
      "outputs": [
        {
          "output_type": "stream",
          "name": "stdout",
          "text": [
            "\n",
            "SAMPLING FOR MODEL 'anon_model' NOW (CHAIN 1).\n",
            "Chain 1: \n",
            "Chain 1: Gradient evaluation took 1.2e-05 seconds\n",
            "Chain 1: 1000 transitions using 10 leapfrog steps per transition would take 0.12 seconds.\n",
            "Chain 1: Adjust your expectations accordingly!\n",
            "Chain 1: \n",
            "Chain 1: \n",
            "Chain 1: Iteration:    1 / 2000 [  0%]  (Warmup)\n",
            "Chain 1: Iteration:  200 / 2000 [ 10%]  (Warmup)\n",
            "Chain 1: Iteration:  400 / 2000 [ 20%]  (Warmup)\n",
            "Chain 1: Iteration:  600 / 2000 [ 30%]  (Warmup)\n",
            "Chain 1: Iteration:  800 / 2000 [ 40%]  (Warmup)\n",
            "Chain 1: Iteration: 1000 / 2000 [ 50%]  (Warmup)\n",
            "Chain 1: Iteration: 1001 / 2000 [ 50%]  (Sampling)\n",
            "Chain 1: Iteration: 1200 / 2000 [ 60%]  (Sampling)\n",
            "Chain 1: Iteration: 1400 / 2000 [ 70%]  (Sampling)\n",
            "Chain 1: Iteration: 1600 / 2000 [ 80%]  (Sampling)\n",
            "Chain 1: Iteration: 1800 / 2000 [ 90%]  (Sampling)\n",
            "Chain 1: Iteration: 2000 / 2000 [100%]  (Sampling)\n",
            "Chain 1: \n",
            "Chain 1:  Elapsed Time: 0.442 seconds (Warm-up)\n",
            "Chain 1:                0.042 seconds (Sampling)\n",
            "Chain 1:                0.484 seconds (Total)\n",
            "Chain 1: \n",
            "\n",
            "SAMPLING FOR MODEL 'anon_model' NOW (CHAIN 2).\n",
            "Chain 2: \n",
            "Chain 2: Gradient evaluation took 8e-06 seconds\n",
            "Chain 2: 1000 transitions using 10 leapfrog steps per transition would take 0.08 seconds.\n",
            "Chain 2: Adjust your expectations accordingly!\n",
            "Chain 2: \n",
            "Chain 2: \n",
            "Chain 2: Iteration:    1 / 2000 [  0%]  (Warmup)\n",
            "Chain 2: Iteration:  200 / 2000 [ 10%]  (Warmup)\n",
            "Chain 2: Iteration:  400 / 2000 [ 20%]  (Warmup)\n",
            "Chain 2: Iteration:  600 / 2000 [ 30%]  (Warmup)\n",
            "Chain 2: Iteration:  800 / 2000 [ 40%]  (Warmup)\n",
            "Chain 2: Iteration: 1000 / 2000 [ 50%]  (Warmup)\n",
            "Chain 2: Iteration: 1001 / 2000 [ 50%]  (Sampling)\n",
            "Chain 2: Iteration: 1200 / 2000 [ 60%]  (Sampling)\n",
            "Chain 2: Iteration: 1400 / 2000 [ 70%]  (Sampling)\n",
            "Chain 2: Iteration: 1600 / 2000 [ 80%]  (Sampling)\n",
            "Chain 2: Iteration: 1800 / 2000 [ 90%]  (Sampling)\n",
            "Chain 2: Iteration: 2000 / 2000 [100%]  (Sampling)\n",
            "Chain 2: \n",
            "Chain 2:  Elapsed Time: 0.424 seconds (Warm-up)\n",
            "Chain 2:                0.041 seconds (Sampling)\n",
            "Chain 2:                0.465 seconds (Total)\n",
            "Chain 2: \n",
            "\n",
            "SAMPLING FOR MODEL 'anon_model' NOW (CHAIN 3).\n",
            "Chain 3: \n",
            "Chain 3: Gradient evaluation took 9e-06 seconds\n",
            "Chain 3: 1000 transitions using 10 leapfrog steps per transition would take 0.09 seconds.\n",
            "Chain 3: Adjust your expectations accordingly!\n",
            "Chain 3: \n",
            "Chain 3: \n",
            "Chain 3: Iteration:    1 / 2000 [  0%]  (Warmup)\n",
            "Chain 3: Iteration:  200 / 2000 [ 10%]  (Warmup)\n",
            "Chain 3: Iteration:  400 / 2000 [ 20%]  (Warmup)\n",
            "Chain 3: Iteration:  600 / 2000 [ 30%]  (Warmup)\n",
            "Chain 3: Iteration:  800 / 2000 [ 40%]  (Warmup)\n",
            "Chain 3: Iteration: 1000 / 2000 [ 50%]  (Warmup)\n",
            "Chain 3: Iteration: 1001 / 2000 [ 50%]  (Sampling)\n",
            "Chain 3: Iteration: 1200 / 2000 [ 60%]  (Sampling)\n",
            "Chain 3: Iteration: 1400 / 2000 [ 70%]  (Sampling)\n",
            "Chain 3: Iteration: 1600 / 2000 [ 80%]  (Sampling)\n",
            "Chain 3: Iteration: 1800 / 2000 [ 90%]  (Sampling)\n",
            "Chain 3: Iteration: 2000 / 2000 [100%]  (Sampling)\n",
            "Chain 3: \n",
            "Chain 3:  Elapsed Time: 0.389 seconds (Warm-up)\n",
            "Chain 3:                0.041 seconds (Sampling)\n",
            "Chain 3:                0.43 seconds (Total)\n",
            "Chain 3: \n",
            "\n",
            "SAMPLING FOR MODEL 'anon_model' NOW (CHAIN 4).\n",
            "Chain 4: \n",
            "Chain 4: Gradient evaluation took 8e-06 seconds\n",
            "Chain 4: 1000 transitions using 10 leapfrog steps per transition would take 0.08 seconds.\n",
            "Chain 4: Adjust your expectations accordingly!\n",
            "Chain 4: \n",
            "Chain 4: \n",
            "Chain 4: Iteration:    1 / 2000 [  0%]  (Warmup)\n",
            "Chain 4: Iteration:  200 / 2000 [ 10%]  (Warmup)\n",
            "Chain 4: Iteration:  400 / 2000 [ 20%]  (Warmup)\n",
            "Chain 4: Iteration:  600 / 2000 [ 30%]  (Warmup)\n",
            "Chain 4: Iteration:  800 / 2000 [ 40%]  (Warmup)\n",
            "Chain 4: Iteration: 1000 / 2000 [ 50%]  (Warmup)\n",
            "Chain 4: Iteration: 1001 / 2000 [ 50%]  (Sampling)\n",
            "Chain 4: Iteration: 1200 / 2000 [ 60%]  (Sampling)\n",
            "Chain 4: Iteration: 1400 / 2000 [ 70%]  (Sampling)\n",
            "Chain 4: Iteration: 1600 / 2000 [ 80%]  (Sampling)\n",
            "Chain 4: Iteration: 1800 / 2000 [ 90%]  (Sampling)\n",
            "Chain 4: Iteration: 2000 / 2000 [100%]  (Sampling)\n",
            "Chain 4: \n",
            "Chain 4:  Elapsed Time: 0.424 seconds (Warm-up)\n",
            "Chain 4:                0.044 seconds (Sampling)\n",
            "Chain 4:                0.468 seconds (Total)\n",
            "Chain 4: \n",
            "Inference for Stan model: anon_model.\n",
            "4 chains, each with iter=2000; warmup=1000; thin=1; \n",
            "post-warmup draws per chain=1000, total post-warmup draws=4000.\n",
            "\n",
            "               mean se_mean       sd      2.5%      25%      50%      75%\n",
            "mu[1]      11176.61   82.69  5821.30     82.20  7410.88 11177.12 15135.11\n",
            "mu[2]      11646.62   74.86  5702.07    580.23  7892.71 11619.25 15469.36\n",
            "mu[3]      15682.72   75.66  5677.16   4291.15 11905.61 15685.11 19457.83\n",
            "mu[4]       8933.57   77.73  5735.60  -2403.58  5176.40  8899.08 12718.59\n",
            "mu[5]       8855.98   78.01  5754.10  -2203.96  5025.32  8816.46 12665.87\n",
            "sigma      12568.35   37.86  2131.68   9283.80 11044.47 12320.68 13742.19\n",
            "mu_post[1] 11176.61   82.69  5821.30     82.20  7410.88 11177.12 15135.11\n",
            "mu_post[2] 11646.62   74.86  5702.07    580.23  7892.71 11619.25 15469.36\n",
            "mu_post[3] 15682.72   75.66  5677.16   4291.15 11905.61 15685.11 19457.83\n",
            "mu_post[4]  8933.57   77.73  5735.60  -2403.58  5176.40  8899.08 12718.59\n",
            "mu_post[5]  8855.98   78.01  5754.10  -2203.96  5025.32  8816.46 12665.87\n",
            "y_pred[1]  10972.14  214.81 13785.08 -15479.86  2215.41 10989.01 19962.69\n",
            "y_pred[2]  11422.68  226.68 13742.70 -16090.96  2236.13 11440.18 20421.88\n",
            "y_pred[3]  15690.69  212.80 13820.90 -11779.17  6652.57 15609.99 24345.56\n",
            "y_pred[4]   9004.77  211.63 14005.87 -19283.68   137.59  9181.42 18248.19\n",
            "y_pred[5]   8787.20  211.88 14091.46 -18526.64  -468.48  8791.17 17872.81\n",
            "lp__        -238.12    0.05     2.00   -242.89  -239.18  -237.76  -236.64\n",
            "              97.5% n_eff Rhat\n",
            "mu[1]      22611.64  4956    1\n",
            "mu[2]      22831.41  5802    1\n",
            "mu[3]      26966.44  5630    1\n",
            "mu[4]      20243.45  5445    1\n",
            "mu[5]      20047.66  5441    1\n",
            "sigma      17633.23  3170    1\n",
            "mu_post[1] 22611.64  4956    1\n",
            "mu_post[2] 22831.41  5802    1\n",
            "mu_post[3] 26966.44  5630    1\n",
            "mu_post[4] 20243.45  5445    1\n",
            "mu_post[5] 20047.66  5441    1\n",
            "y_pred[1]  38137.94  4118    1\n",
            "y_pred[2]  37779.54  3676    1\n",
            "y_pred[3]  43518.90  4218    1\n",
            "y_pred[4]  35627.15  4380    1\n",
            "y_pred[5]  35901.11  4423    1\n",
            "lp__        -235.36  1492    1\n",
            "\n",
            "Samples were drawn using NUTS(diag_e) at Tue Sep 24 02:47:21 2024.\n",
            "For each parameter, n_eff is a crude measure of effective sample size,\n",
            "and Rhat is the potential scale reduction factor on split chains (at \n",
            "convergence, Rhat=1).\n"
          ]
        }
      ]
    },
    {
      "cell_type": "code",
      "source": [
        "# Gibbs sampling for the separate Gaussian model\n",
        "\n",
        "# Data\n",
        "deaths <- matrix(c(33058, 34452, 31315, 24516, 24614,   # Accidents\n",
        "                   6712, 7571, 31315, 5341, 5234,       # Homicide\n",
        "                   8663, 8862, 8454, 8059, 8020,       # Suicide\n",
        "                   3789, 4155, 3984, 3495, 3561,       # Heart Disease\n",
        "                   3641, 3615, 3573, 3577, 3684),      # Malignant Neoplasms\n",
        "                 ncol = 5, byrow = TRUE)\n",
        "n_years <- nrow(deaths)\n",
        "n_causes <- ncol(deaths)\n",
        "\n",
        "# Hyperparameters\n",
        "mu_prior_mean <- 0\n",
        "mu_prior_variance <- 100^2  # Weak prior\n",
        "alpha <- 0.001\n",
        "beta <- 0.001\n",
        "\n",
        "# Initialize parameters\n",
        "mu <- apply(deaths, 2, mean)  # Start with the sample mean for each cause\n",
        "sigma2 <- 1000  # Start with a large initial variance\n",
        "\n",
        "# Gibbs sampling settings\n",
        "n_iter <- 2000\n",
        "mu_samples <- matrix(NA, nrow = n_iter, ncol = n_causes)\n",
        "sigma2_samples <- numeric(n_iter)\n",
        "\n",
        "# Gibbs sampling loop\n",
        "for (iter in 1:n_iter) {\n",
        "  # Sample each mu_c | sigma^2, y\n",
        "  for (c in 1:n_causes) {\n",
        "    y_c <- deaths[, c]\n",
        "    n <- length(y_c)\n",
        "    mu_post_mean <- (sum(y_c) / sigma2 + mu_prior_mean / mu_prior_variance) /\n",
        "                    (n / sigma2 + 1 / mu_prior_variance)\n",
        "    mu_post_var <- 1 / (n / sigma2 + 1 / mu_prior_variance)\n",
        "    mu[c] <- rnorm(1, mean = mu_post_mean, sd = sqrt(mu_post_var))\n",
        "  }\n",
        "\n",
        "  # Sample sigma^2 | mu, y\n",
        "  residuals <- deaths - matrix(rep(mu, each = n_years), n_years, n_causes)\n",
        "  ss <- sum(residuals^2)\n",
        "  sigma2_post_shape <- alpha + 0.5 * n_years * n_causes\n",
        "  sigma2_post_rate <- beta + 0.5 * ss\n",
        "  sigma2 <- 1 / rgamma(1, shape = sigma2_post_shape, rate = sigma2_post_rate)\n",
        "\n",
        "  # Store the samples\n",
        "  mu_samples[iter, ] <- mu\n",
        "  sigma2_samples[iter] <- sigma2\n",
        "}\n",
        "\n",
        "# Results\n",
        "mu_samples_mean <- apply(mu_samples, 2, mean)\n",
        "sigma2_mean <- mean(sigma2_samples)\n",
        "\n",
        "print(\"Posterior means of mu for each cause:\")\n",
        "print(mu_samples_mean)\n",
        "\n",
        "print(\"Posterior mean of sigma^2:\")\n",
        "print(sigma2_mean)\n"
      ],
      "metadata": {
        "id": "96A25CMQyvUU",
        "colab": {
          "base_uri": "https://localhost:8080/"
        },
        "outputId": "827f331d-925f-473f-8cf2-a2b7fe72c0d3"
      },
      "execution_count": 25,
      "outputs": [
        {
          "output_type": "stream",
          "name": "stdout",
          "text": [
            "[1] \"Posterior means of mu for each cause:\"\n",
            "[1]  9.575408  9.877249 12.709542  6.546121  6.945206\n",
            "[1] \"Posterior mean of sigma^2:\"\n",
            "[1] 264213076\n"
          ]
        }
      ]
    },
    {
      "cell_type": "code",
      "source": [],
      "metadata": {
        "id": "WZNF0bTZ1iGf"
      },
      "execution_count": 26,
      "outputs": []
    },
    {
      "cell_type": "code",
      "source": [
        "# Extract posterior samples of mu and sigma\n",
        "post_samples <- extract(fit_separate)\n",
        "mu_samples <- post_samples$mu\n",
        "sigma_samples <- post_samples$sigma\n",
        "\n",
        "# Predict the 6th cause\n",
        "predicted_mu_6 <- rnorm(1000, mean = mean(mu_samples), sd = mean(sigma_samples))\n",
        "hist(predicted_mu_6, breaks = 30, main = \"Predictive Distribution for 6th Cause\")\n"
      ],
      "metadata": {
        "colab": {
          "base_uri": "https://localhost:8080/",
          "height": 437
        },
        "id": "XShAFHe52TgQ",
        "outputId": "2b23cea5-de47-4294-c33b-77b3b33f4a8d"
      },
      "execution_count": 17,
      "outputs": [
        {
          "output_type": "display_data",
          "data": {
            "text/plain": [
              "Plot with title “Predictive Distribution for 6th Cause”"
            ],
            "image/png": "[encoded data removed]"
          },
          "metadata": {
            "image/png": {
              "width": 420,
              "height": 420
            }
          }
        }
      ]
    },
    {
      "cell_type": "code",
      "source": [
        "gibbs_separate <- function(y, num_samples, burn_in) {\n",
        "  N <- nrow(y)\n",
        "  C <- ncol(y)\n",
        "\n",
        "  # Initialize storage for samples\n",
        "  samples_mu <- matrix(NA, nrow = num_samples, ncol = C)\n",
        "  samples_sigma <- numeric(num_samples)\n",
        "\n",
        "  # Set initial values\n",
        "  samples_mu[1, ] <- colMeans(y)\n",
        "  samples_sigma[1] <- sd(as.numeric(y))\n",
        "\n",
        "  # Gibbs sampling\n",
        "  for (i in 2:num_samples) {\n",
        "    # Sample mu_i for each cause from Normal\n",
        "    for (j in 1:C) {\n",
        "      mu_post_mean <- mean(y[, j])\n",
        "      mu_post_sd <- samples_sigma[i-1] / sqrt(N)\n",
        "      samples_mu[i, j] <- rnorm(1, mu_post_mean, mu_post_sd)\n",
        "    }\n",
        "\n",
        "    # Sample sigma from the posterior (Inverse-Gamma)\n",
        "    residuals <- y - matrix(samples_mu[i, ], nrow = N, ncol = C, byrow = TRUE)\n",
        "    sigma_post_shape <- (N * C) / 2\n",
        "    sigma_post_scale <- sum(residuals^2) / 2\n",
        "    samples_sigma[i] <- sqrt(1 / rgamma(1, sigma_post_shape, sigma_post_scale))\n",
        "  }\n",
        "\n",
        "  # Discard burn-in samples\n",
        "  samples_mu <- samples_mu[(burn_in + 1):num_samples, ]\n",
        "  samples_sigma <- samples_sigma[(burn_in + 1):num_samples]\n",
        "\n",
        "  return(list(mu = samples_mu, sigma = samples_sigma))\n",
        "}\n",
        "\n",
        "# Run Gibbs Sampling for Separate Gaussian Model\n",
        "set.seed(123)\n",
        "num_samples <- 10000\n",
        "burn_in <- 1000\n",
        "separate_results <- gibbs_separate(y = data_list$y, num_samples = num_samples, burn_in = burn_in)\n",
        "\n",
        "# Posterior distributions for means of 5 causes\n",
        "separate_results$mu  # Posterior samples for each mu_i\n",
        "\n",
        "# Predictive distribution for a 6th cause\n",
        "# In the separate model, the 6th cause would not share any structure with the other causes\n",
        "mu_6_samples_separate <- rnorm(1000, mean = mean(separate_results$mu), sd = mean(separate_results$sigma))\n"
      ],
      "metadata": {
        "colab": {
          "base_uri": "https://localhost:8080/",
          "height": 1000
        },
        "id": "l4CCM_hT2ap5",
        "outputId": "a75ec41d-0b9c-406c-e805-c8bf1d963fa4"
      },
      "execution_count": 19,
      "outputs": [
        {
          "output_type": "display_data",
          "data": {
            "text/html": [
              "<table class=\"dataframe\">\n",
              "<caption>A matrix: 9000 × 5 of type dbl</caption>\n",
              "<tbody>\n",
              "\t<tr><td>19185.980</td><td>17436.0806</td><td>23497.619</td><td> 3740.1184</td><td>19315.019</td></tr>\n",
              "\t<tr><td>16995.633</td><td> 5639.2873</td><td>15385.758</td><td> 9945.3480</td><td> 2133.869</td></tr>\n",
              "\t<tr><td>14248.832</td><td> 5750.9795</td><td> 5584.717</td><td> 7566.1320</td><td>11780.936</td></tr>\n",
              "\t<tr><td> 3899.205</td><td>14848.9441</td><td>13156.048</td><td> 4661.5249</td><td> 6511.623</td></tr>\n",
              "\t<tr><td>11027.535</td><td> 2611.8800</td><td>11463.993</td><td> 1734.0963</td><td>24030.843</td></tr>\n",
              "\t<tr><td>12360.153</td><td>  487.1615</td><td>10425.785</td><td>-2888.7357</td><td> 2041.770</td></tr>\n",
              "\t<tr><td> 6342.027</td><td>15558.9181</td><td>10388.534</td><td> -909.3598</td><td>14299.753</td></tr>\n",
              "\t<tr><td> 2416.655</td><td> 7933.5814</td><td>20321.028</td><td> 3615.6042</td><td>13203.481</td></tr>\n",
              "\t<tr><td>11284.580</td><td>18009.5295</td><td>16381.460</td><td>13588.3654</td><td>18754.314</td></tr>\n",
              "\t<tr><td>11843.155</td><td>19836.5494</td><td>25763.163</td><td>19719.1495</td><td> 1348.076</td></tr>\n",
              "\t<tr><td>15038.816</td><td>25522.9500</td><td> 4695.606</td><td>20645.7648</td><td>14522.471</td></tr>\n",
              "\t<tr><td>10247.704</td><td>14536.1418</td><td>25078.543</td><td>10529.0409</td><td>18416.235</td></tr>\n",
              "\t<tr><td>10197.701</td><td>11679.3960</td><td>21284.033</td><td> 2303.7747</td><td>10027.627</td></tr>\n",
              "\t<tr><td>15660.602</td><td> 4733.0394</td><td>13942.706</td><td>12059.5248</td><td> 2334.024</td></tr>\n",
              "\t<tr><td> 7066.859</td><td>10812.7514</td><td>20901.873</td><td>13755.0098</td><td> 1880.610</td></tr>\n",
              "\t<tr><td> 7279.191</td><td> 8895.8123</td><td>17511.130</td><td> 4344.1310</td><td> 4576.439</td></tr>\n",
              "\t<tr><td> 3813.118</td><td>20965.2361</td><td>22768.242</td><td>13543.8449</td><td> 6817.192</td></tr>\n",
              "\t<tr><td> 5296.389</td><td> 2126.2635</td><td> 1161.890</td><td>10091.4452</td><td> 9198.099</td></tr>\n",
              "\t<tr><td>16300.549</td><td>22306.4300</td><td>15339.207</td><td>10283.2805</td><td> 7409.121</td></tr>\n",
              "\t<tr><td> 8298.974</td><td>14121.8016</td><td>13724.745</td><td> 4039.5582</td><td> 7582.113</td></tr>\n",
              "\t<tr><td> 9363.501</td><td> 7573.4976</td><td>15616.745</td><td> 9607.7433</td><td> 7160.957</td></tr>\n",
              "\t<tr><td> 9902.967</td><td>12856.5267</td><td>11622.157</td><td> 2258.5860</td><td> 9091.950</td></tr>\n",
              "\t<tr><td> 9113.838</td><td>16498.5535</td><td>21744.825</td><td> 3569.8441</td><td>12739.455</td></tr>\n",
              "\t<tr><td> 8818.772</td><td> 9272.3921</td><td> 9500.513</td><td> 9456.4259</td><td> 5829.705</td></tr>\n",
              "\t<tr><td>10156.441</td><td>10690.2951</td><td>18850.140</td><td>11098.9745</td><td> 6603.672</td></tr>\n",
              "\t<tr><td> 7505.040</td><td>12385.8643</td><td> 8339.160</td><td>14105.6839</td><td>12550.803</td></tr>\n",
              "\t<tr><td>12794.236</td><td> 8793.5404</td><td>19628.794</td><td> 8725.3820</td><td>13007.890</td></tr>\n",
              "\t<tr><td> 8833.263</td><td> 7806.5023</td><td>11738.737</td><td> 1404.5067</td><td>15420.436</td></tr>\n",
              "\t<tr><td>10918.680</td><td>20214.6542</td><td>23034.542</td><td>14273.3759</td><td>12088.630</td></tr>\n",
              "\t<tr><td>13455.948</td><td>17354.7444</td><td>20229.394</td><td> 5970.9149</td><td>12701.479</td></tr>\n",
              "\t<tr><td>⋮</td><td>⋮</td><td>⋮</td><td>⋮</td><td>⋮</td></tr>\n",
              "\t<tr><td> 4607.1377</td><td>10864.194</td><td>20385.670</td><td> 7692.8428</td><td> 7907.203</td></tr>\n",
              "\t<tr><td>10832.4877</td><td>10148.314</td><td>11431.581</td><td> 7323.3830</td><td>11506.284</td></tr>\n",
              "\t<tr><td> 3953.5850</td><td> 8182.858</td><td>19537.961</td><td> 9227.2527</td><td> 6365.049</td></tr>\n",
              "\t<tr><td>19046.0503</td><td>10951.196</td><td> 7032.983</td><td> 3437.8732</td><td>13353.172</td></tr>\n",
              "\t<tr><td>17987.9291</td><td> 8403.597</td><td>15100.133</td><td>  700.8233</td><td>12603.751</td></tr>\n",
              "\t<tr><td>  530.0536</td><td> 9145.954</td><td>20142.636</td><td> 6794.9993</td><td> 4653.580</td></tr>\n",
              "\t<tr><td>14701.5486</td><td>12968.004</td><td>26675.133</td><td> 9273.7613</td><td>12942.086</td></tr>\n",
              "\t<tr><td>11790.2758</td><td> 7205.127</td><td>23751.620</td><td> 8140.0222</td><td>16543.323</td></tr>\n",
              "\t<tr><td>13194.0974</td><td> 6761.456</td><td>17611.770</td><td> 2690.3255</td><td>12782.123</td></tr>\n",
              "\t<tr><td> 6567.8231</td><td> 7913.687</td><td> 7928.128</td><td> 3454.3863</td><td>16001.390</td></tr>\n",
              "\t<tr><td>12265.8024</td><td> 9889.547</td><td>15971.357</td><td>12147.2926</td><td> 8287.468</td></tr>\n",
              "\t<tr><td>14803.5123</td><td>21076.170</td><td>10387.359</td><td>16248.8225</td><td> 3990.750</td></tr>\n",
              "\t<tr><td> 3078.6038</td><td>12096.333</td><td>14128.856</td><td>14771.8417</td><td> 8092.768</td></tr>\n",
              "\t<tr><td> 5869.4312</td><td> 6289.070</td><td>15914.248</td><td> 7554.0021</td><td>-1403.541</td></tr>\n",
              "\t<tr><td> 9944.7709</td><td>12454.244</td><td>18909.680</td><td> 7251.2319</td><td>20551.976</td></tr>\n",
              "\t<tr><td>11937.0351</td><td>11102.176</td><td>19632.071</td><td>-1135.7499</td><td>11730.996</td></tr>\n",
              "\t<tr><td>12887.4935</td><td>16550.212</td><td>13896.081</td><td>10585.3145</td><td> 5574.453</td></tr>\n",
              "\t<tr><td>13695.7855</td><td>11118.208</td><td>20019.552</td><td>12941.0781</td><td>13165.516</td></tr>\n",
              "\t<tr><td>15846.5529</td><td>11114.796</td><td> 5492.574</td><td>17041.9619</td><td>12231.274</td></tr>\n",
              "\t<tr><td> 8544.6183</td><td>12172.630</td><td>16624.598</td><td>11651.9998</td><td>-1085.074</td></tr>\n",
              "\t<tr><td>13409.0008</td><td>18528.392</td><td>10275.750</td><td>11955.4245</td><td>15119.218</td></tr>\n",
              "\t<tr><td>12035.0788</td><td>16225.427</td><td>17979.261</td><td>16326.9440</td><td> 8738.758</td></tr>\n",
              "\t<tr><td> 6405.3275</td><td> 8903.242</td><td>11854.300</td><td> 8088.4965</td><td> 4777.740</td></tr>\n",
              "\t<tr><td> 3189.5585</td><td> 9538.890</td><td> 9332.800</td><td> 9996.2440</td><td>11089.192</td></tr>\n",
              "\t<tr><td> 9407.8703</td><td> 8606.270</td><td> 2083.079</td><td>19509.8935</td><td> 2311.121</td></tr>\n",
              "\t<tr><td>13537.2503</td><td>21619.286</td><td> 5428.208</td><td>19429.0096</td><td>20626.098</td></tr>\n",
              "\t<tr><td> 9447.4474</td><td>10849.081</td><td>18815.459</td><td>10775.5011</td><td> 2954.331</td></tr>\n",
              "\t<tr><td>17688.2554</td><td> 7881.115</td><td> 9930.707</td><td> 7633.0598</td><td>10543.261</td></tr>\n",
              "\t<tr><td>14317.8853</td><td>12031.534</td><td>14242.287</td><td> 8818.7207</td><td> 9430.144</td></tr>\n",
              "\t<tr><td>11529.9825</td><td>13752.229</td><td> 7526.118</td><td> 8591.9700</td><td>12101.840</td></tr>\n",
              "</tbody>\n",
              "</table>\n"
            ],
            "text/markdown": "\nA matrix: 9000 × 5 of type dbl\n\n| 19185.980 | 17436.0806 | 23497.619 |  3740.1184 | 19315.019 |\n| 16995.633 |  5639.2873 | 15385.758 |  9945.3480 |  2133.869 |\n| 14248.832 |  5750.9795 |  5584.717 |  7566.1320 | 11780.936 |\n|  3899.205 | 14848.9441 | 13156.048 |  4661.5249 |  6511.623 |\n| 11027.535 |  2611.8800 | 11463.993 |  1734.0963 | 24030.843 |\n| 12360.153 |   487.1615 | 10425.785 | -2888.7357 |  2041.770 |\n|  6342.027 | 15558.9181 | 10388.534 |  -909.3598 | 14299.753 |\n|  2416.655 |  7933.5814 | 20321.028 |  3615.6042 | 13203.481 |\n| 11284.580 | 18009.5295 | 16381.460 | 13588.3654 | 18754.314 |\n| 11843.155 | 19836.5494 | 25763.163 | 19719.1495 |  1348.076 |\n| 15038.816 | 25522.9500 |  4695.606 | 20645.7648 | 14522.471 |\n| 10247.704 | 14536.1418 | 25078.543 | 10529.0409 | 18416.235 |\n| 10197.701 | 11679.3960 | 21284.033 |  2303.7747 | 10027.627 |\n| 15660.602 |  4733.0394 | 13942.706 | 12059.5248 |  2334.024 |\n|  7066.859 | 10812.7514 | 20901.873 | 13755.0098 |  1880.610 |\n|  7279.191 |  8895.8123 | 17511.130 |  4344.1310 |  4576.439 |\n|  3813.118 | 20965.2361 | 22768.242 | 13543.8449 |  6817.192 |\n|  5296.389 |  2126.2635 |  1161.890 | 10091.4452 |  9198.099 |\n| 16300.549 | 22306.4300 | 15339.207 | 10283.2805 |  7409.121 |\n|  8298.974 | 14121.8016 | 13724.745 |  4039.5582 |  7582.113 |\n|  9363.501 |  7573.4976 | 15616.745 |  9607.7433 |  7160.957 |\n|  9902.967 | 12856.5267 | 11622.157 |  2258.5860 |  9091.950 |\n|  9113.838 | 16498.5535 | 21744.825 |  3569.8441 | 12739.455 |\n|  8818.772 |  9272.3921 |  9500.513 |  9456.4259 |  5829.705 |\n| 10156.441 | 10690.2951 | 18850.140 | 11098.9745 |  6603.672 |\n|  7505.040 | 12385.8643 |  8339.160 | 14105.6839 | 12550.803 |\n| 12794.236 |  8793.5404 | 19628.794 |  8725.3820 | 13007.890 |\n|  8833.263 |  7806.5023 | 11738.737 |  1404.5067 | 15420.436 |\n| 10918.680 | 20214.6542 | 23034.542 | 14273.3759 | 12088.630 |\n| 13455.948 | 17354.7444 | 20229.394 |  5970.9149 | 12701.479 |\n| ⋮ | ⋮ | ⋮ | ⋮ | ⋮ |\n|  4607.1377 | 10864.194 | 20385.670 |  7692.8428 |  7907.203 |\n| 10832.4877 | 10148.314 | 11431.581 |  7323.3830 | 11506.284 |\n|  3953.5850 |  8182.858 | 19537.961 |  9227.2527 |  6365.049 |\n| 19046.0503 | 10951.196 |  7032.983 |  3437.8732 | 13353.172 |\n| 17987.9291 |  8403.597 | 15100.133 |   700.8233 | 12603.751 |\n|   530.0536 |  9145.954 | 20142.636 |  6794.9993 |  4653.580 |\n| 14701.5486 | 12968.004 | 26675.133 |  9273.7613 | 12942.086 |\n| 11790.2758 |  7205.127 | 23751.620 |  8140.0222 | 16543.323 |\n| 13194.0974 |  6761.456 | 17611.770 |  2690.3255 | 12782.123 |\n|  6567.8231 |  7913.687 |  7928.128 |  3454.3863 | 16001.390 |\n| 12265.8024 |  9889.547 | 15971.357 | 12147.2926 |  8287.468 |\n| 14803.5123 | 21076.170 | 10387.359 | 16248.8225 |  3990.750 |\n|  3078.6038 | 12096.333 | 14128.856 | 14771.8417 |  8092.768 |\n|  5869.4312 |  6289.070 | 15914.248 |  7554.0021 | -1403.541 |\n|  9944.7709 | 12454.244 | 18909.680 |  7251.2319 | 20551.976 |\n| 11937.0351 | 11102.176 | 19632.071 | -1135.7499 | 11730.996 |\n| 12887.4935 | 16550.212 | 13896.081 | 10585.3145 |  5574.453 |\n| 13695.7855 | 11118.208 | 20019.552 | 12941.0781 | 13165.516 |\n| 15846.5529 | 11114.796 |  5492.574 | 17041.9619 | 12231.274 |\n|  8544.6183 | 12172.630 | 16624.598 | 11651.9998 | -1085.074 |\n| 13409.0008 | 18528.392 | 10275.750 | 11955.4245 | 15119.218 |\n| 12035.0788 | 16225.427 | 17979.261 | 16326.9440 |  8738.758 |\n|  6405.3275 |  8903.242 | 11854.300 |  8088.4965 |  4777.740 |\n|  3189.5585 |  9538.890 |  9332.800 |  9996.2440 | 11089.192 |\n|  9407.8703 |  8606.270 |  2083.079 | 19509.8935 |  2311.121 |\n| 13537.2503 | 21619.286 |  5428.208 | 19429.0096 | 20626.098 |\n|  9447.4474 | 10849.081 | 18815.459 | 10775.5011 |  2954.331 |\n| 17688.2554 |  7881.115 |  9930.707 |  7633.0598 | 10543.261 |\n| 14317.8853 | 12031.534 | 14242.287 |  8818.7207 |  9430.144 |\n| 11529.9825 | 13752.229 |  7526.118 |  8591.9700 | 12101.840 |\n\n",
            "text/latex": "A matrix: 9000 × 5 of type dbl\n\\begin{tabular}{lllll}\n\t 19185.980 & 17436.0806 & 23497.619 &  3740.1184 & 19315.019\\\\\n\t 16995.633 &  5639.2873 & 15385.758 &  9945.3480 &  2133.869\\\\\n\t 14248.832 &  5750.9795 &  5584.717 &  7566.1320 & 11780.936\\\\\n\t  3899.205 & 14848.9441 & 13156.048 &  4661.5249 &  6511.623\\\\\n\t 11027.535 &  2611.8800 & 11463.993 &  1734.0963 & 24030.843\\\\\n\t 12360.153 &   487.1615 & 10425.785 & -2888.7357 &  2041.770\\\\\n\t  6342.027 & 15558.9181 & 10388.534 &  -909.3598 & 14299.753\\\\\n\t  2416.655 &  7933.5814 & 20321.028 &  3615.6042 & 13203.481\\\\\n\t 11284.580 & 18009.5295 & 16381.460 & 13588.3654 & 18754.314\\\\\n\t 11843.155 & 19836.5494 & 25763.163 & 19719.1495 &  1348.076\\\\\n\t 15038.816 & 25522.9500 &  4695.606 & 20645.7648 & 14522.471\\\\\n\t 10247.704 & 14536.1418 & 25078.543 & 10529.0409 & 18416.235\\\\\n\t 10197.701 & 11679.3960 & 21284.033 &  2303.7747 & 10027.627\\\\\n\t 15660.602 &  4733.0394 & 13942.706 & 12059.5248 &  2334.024\\\\\n\t  7066.859 & 10812.7514 & 20901.873 & 13755.0098 &  1880.610\\\\\n\t  7279.191 &  8895.8123 & 17511.130 &  4344.1310 &  4576.439\\\\\n\t  3813.118 & 20965.2361 & 22768.242 & 13543.8449 &  6817.192\\\\\n\t  5296.389 &  2126.2635 &  1161.890 & 10091.4452 &  9198.099\\\\\n\t 16300.549 & 22306.4300 & 15339.207 & 10283.2805 &  7409.121\\\\\n\t  8298.974 & 14121.8016 & 13724.745 &  4039.5582 &  7582.113\\\\\n\t  9363.501 &  7573.4976 & 15616.745 &  9607.7433 &  7160.957\\\\\n\t  9902.967 & 12856.5267 & 11622.157 &  2258.5860 &  9091.950\\\\\n\t  9113.838 & 16498.5535 & 21744.825 &  3569.8441 & 12739.455\\\\\n\t  8818.772 &  9272.3921 &  9500.513 &  9456.4259 &  5829.705\\\\\n\t 10156.441 & 10690.2951 & 18850.140 & 11098.9745 &  6603.672\\\\\n\t  7505.040 & 12385.8643 &  8339.160 & 14105.6839 & 12550.803\\\\\n\t 12794.236 &  8793.5404 & 19628.794 &  8725.3820 & 13007.890\\\\\n\t  8833.263 &  7806.5023 & 11738.737 &  1404.5067 & 15420.436\\\\\n\t 10918.680 & 20214.6542 & 23034.542 & 14273.3759 & 12088.630\\\\\n\t 13455.948 & 17354.7444 & 20229.394 &  5970.9149 & 12701.479\\\\\n\t ⋮ & ⋮ & ⋮ & ⋮ & ⋮\\\\\n\t  4607.1377 & 10864.194 & 20385.670 &  7692.8428 &  7907.203\\\\\n\t 10832.4877 & 10148.314 & 11431.581 &  7323.3830 & 11506.284\\\\\n\t  3953.5850 &  8182.858 & 19537.961 &  9227.2527 &  6365.049\\\\\n\t 19046.0503 & 10951.196 &  7032.983 &  3437.8732 & 13353.172\\\\\n\t 17987.9291 &  8403.597 & 15100.133 &   700.8233 & 12603.751\\\\\n\t   530.0536 &  9145.954 & 20142.636 &  6794.9993 &  4653.580\\\\\n\t 14701.5486 & 12968.004 & 26675.133 &  9273.7613 & 12942.086\\\\\n\t 11790.2758 &  7205.127 & 23751.620 &  8140.0222 & 16543.323\\\\\n\t 13194.0974 &  6761.456 & 17611.770 &  2690.3255 & 12782.123\\\\\n\t  6567.8231 &  7913.687 &  7928.128 &  3454.3863 & 16001.390\\\\\n\t 12265.8024 &  9889.547 & 15971.357 & 12147.2926 &  8287.468\\\\\n\t 14803.5123 & 21076.170 & 10387.359 & 16248.8225 &  3990.750\\\\\n\t  3078.6038 & 12096.333 & 14128.856 & 14771.8417 &  8092.768\\\\\n\t  5869.4312 &  6289.070 & 15914.248 &  7554.0021 & -1403.541\\\\\n\t  9944.7709 & 12454.244 & 18909.680 &  7251.2319 & 20551.976\\\\\n\t 11937.0351 & 11102.176 & 19632.071 & -1135.7499 & 11730.996\\\\\n\t 12887.4935 & 16550.212 & 13896.081 & 10585.3145 &  5574.453\\\\\n\t 13695.7855 & 11118.208 & 20019.552 & 12941.0781 & 13165.516\\\\\n\t 15846.5529 & 11114.796 &  5492.574 & 17041.9619 & 12231.274\\\\\n\t  8544.6183 & 12172.630 & 16624.598 & 11651.9998 & -1085.074\\\\\n\t 13409.0008 & 18528.392 & 10275.750 & 11955.4245 & 15119.218\\\\\n\t 12035.0788 & 16225.427 & 17979.261 & 16326.9440 &  8738.758\\\\\n\t  6405.3275 &  8903.242 & 11854.300 &  8088.4965 &  4777.740\\\\\n\t  3189.5585 &  9538.890 &  9332.800 &  9996.2440 & 11089.192\\\\\n\t  9407.8703 &  8606.270 &  2083.079 & 19509.8935 &  2311.121\\\\\n\t 13537.2503 & 21619.286 &  5428.208 & 19429.0096 & 20626.098\\\\\n\t  9447.4474 & 10849.081 & 18815.459 & 10775.5011 &  2954.331\\\\\n\t 17688.2554 &  7881.115 &  9930.707 &  7633.0598 & 10543.261\\\\\n\t 14317.8853 & 12031.534 & 14242.287 &  8818.7207 &  9430.144\\\\\n\t 11529.9825 & 13752.229 &  7526.118 &  8591.9700 & 12101.840\\\\\n\\end{tabular}\n",
            "text/plain": [
              "      [,1]       [,2]       [,3]      [,4]       [,5]     \n",
              " [1,] 19185.980  17436.0806 23497.619  3740.1184 19315.019\n",
              " [2,] 16995.633   5639.2873 15385.758  9945.3480  2133.869\n",
              " [3,] 14248.832   5750.9795  5584.717  7566.1320 11780.936\n",
              " [4,]  3899.205  14848.9441 13156.048  4661.5249  6511.623\n",
              " [5,] 11027.535   2611.8800 11463.993  1734.0963 24030.843\n",
              " [6,] 12360.153    487.1615 10425.785 -2888.7357  2041.770\n",
              " [7,]  6342.027  15558.9181 10388.534  -909.3598 14299.753\n",
              " [8,]  2416.655   7933.5814 20321.028  3615.6042 13203.481\n",
              " [9,] 11284.580  18009.5295 16381.460 13588.3654 18754.314\n",
              "[10,] 11843.155  19836.5494 25763.163 19719.1495  1348.076\n",
              "[11,] 15038.816  25522.9500  4695.606 20645.7648 14522.471\n",
              "[12,] 10247.704  14536.1418 25078.543 10529.0409 18416.235\n",
              "[13,] 10197.701  11679.3960 21284.033  2303.7747 10027.627\n",
              "[14,] 15660.602   4733.0394 13942.706 12059.5248  2334.024\n",
              "[15,]  7066.859  10812.7514 20901.873 13755.0098  1880.610\n",
              "[16,]  7279.191   8895.8123 17511.130  4344.1310  4576.439\n",
              "[17,]  3813.118  20965.2361 22768.242 13543.8449  6817.192\n",
              "[18,]  5296.389   2126.2635  1161.890 10091.4452  9198.099\n",
              "[19,] 16300.549  22306.4300 15339.207 10283.2805  7409.121\n",
              "[20,]  8298.974  14121.8016 13724.745  4039.5582  7582.113\n",
              "[21,]  9363.501   7573.4976 15616.745  9607.7433  7160.957\n",
              "[22,]  9902.967  12856.5267 11622.157  2258.5860  9091.950\n",
              "[23,]  9113.838  16498.5535 21744.825  3569.8441 12739.455\n",
              "[24,]  8818.772   9272.3921  9500.513  9456.4259  5829.705\n",
              "[25,] 10156.441  10690.2951 18850.140 11098.9745  6603.672\n",
              "[26,]  7505.040  12385.8643  8339.160 14105.6839 12550.803\n",
              "[27,] 12794.236   8793.5404 19628.794  8725.3820 13007.890\n",
              "[28,]  8833.263   7806.5023 11738.737  1404.5067 15420.436\n",
              "[29,] 10918.680  20214.6542 23034.542 14273.3759 12088.630\n",
              "[30,] 13455.948  17354.7444 20229.394  5970.9149 12701.479\n",
              "[31,] ⋮          ⋮          ⋮         ⋮          ⋮        \n",
              "[32,]  4607.1377 10864.194  20385.670  7692.8428  7907.203\n",
              "[33,] 10832.4877 10148.314  11431.581  7323.3830 11506.284\n",
              "[34,]  3953.5850  8182.858  19537.961  9227.2527  6365.049\n",
              "[35,] 19046.0503 10951.196   7032.983  3437.8732 13353.172\n",
              "[36,] 17987.9291  8403.597  15100.133   700.8233 12603.751\n",
              "[37,]   530.0536  9145.954  20142.636  6794.9993  4653.580\n",
              "[38,] 14701.5486 12968.004  26675.133  9273.7613 12942.086\n",
              "[39,] 11790.2758  7205.127  23751.620  8140.0222 16543.323\n",
              "[40,] 13194.0974  6761.456  17611.770  2690.3255 12782.123\n",
              "[41,]  6567.8231  7913.687   7928.128  3454.3863 16001.390\n",
              "[42,] 12265.8024  9889.547  15971.357 12147.2926  8287.468\n",
              "[43,] 14803.5123 21076.170  10387.359 16248.8225  3990.750\n",
              "[44,]  3078.6038 12096.333  14128.856 14771.8417  8092.768\n",
              "[45,]  5869.4312  6289.070  15914.248  7554.0021 -1403.541\n",
              "[46,]  9944.7709 12454.244  18909.680  7251.2319 20551.976\n",
              "[47,] 11937.0351 11102.176  19632.071 -1135.7499 11730.996\n",
              "[48,] 12887.4935 16550.212  13896.081 10585.3145  5574.453\n",
              "[49,] 13695.7855 11118.208  20019.552 12941.0781 13165.516\n",
              "[50,] 15846.5529 11114.796   5492.574 17041.9619 12231.274\n",
              "[51,]  8544.6183 12172.630  16624.598 11651.9998 -1085.074\n",
              "[52,] 13409.0008 18528.392  10275.750 11955.4245 15119.218\n",
              "[53,] 12035.0788 16225.427  17979.261 16326.9440  8738.758\n",
              "[54,]  6405.3275  8903.242  11854.300  8088.4965  4777.740\n",
              "[55,]  3189.5585  9538.890   9332.800  9996.2440 11089.192\n",
              "[56,]  9407.8703  8606.270   2083.079 19509.8935  2311.121\n",
              "[57,] 13537.2503 21619.286   5428.208 19429.0096 20626.098\n",
              "[58,]  9447.4474 10849.081  18815.459 10775.5011  2954.331\n",
              "[59,] 17688.2554  7881.115   9930.707  7633.0598 10543.261\n",
              "[60,] 14317.8853 12031.534  14242.287  8818.7207  9430.144\n",
              "[61,] 11529.9825 13752.229   7526.118  8591.9700 12101.840"
            ]
          },
          "metadata": {}
        }
      ]
    },
    {
      "cell_type": "code",
      "source": [],
      "metadata": {
        "id": "V4N-nW364M1G"
      },
      "execution_count": null,
      "outputs": []
    }
  ]
}