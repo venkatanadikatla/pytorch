{
  "nbformat": 4,
  "nbformat_minor": 0,
  "metadata": {
    "colab": {
      "provenance": [],
      "authorship_tag": "ABX9TyPaMrx5ITn/ETA75eatSTir",
      "include_colab_link": true
    },
    "kernelspec": {
      "name": "python3",
      "display_name": "Python 3"
    },
    "language_info": {
      "name": "python"
    }
  },
  "cells": [
    {
      "cell_type": "markdown",
      "metadata": {
        "id": "view-in-github",
        "colab_type": "text"
      },
      "source": [
        "<a href=\"https://colab.research.google.com/github/venkatanadikatla/pytorch/blob/main/Week_9_Summative.ipynb\" target=\"_parent\"><img src=\"https://colab.research.google.com/assets/colab-badge.svg\" alt=\"Open In Colab\"/></a>"
      ]
    },
    {
      "cell_type": "markdown",
      "source": [
        "### Question 1\n",
        "\n",
        "Given an 5 × 5 × 2 input\n",
        "𝐼\n",
        "I, calculate the result of the convolution with 3 × 3 × 2 filter\n",
        "𝐾\n",
        "K and bias = 1, with stride = 2 and no padding."
      ],
      "metadata": {
        "id": "wLpXSnJ3zTiu"
      }
    },
    {
      "cell_type": "markdown",
      "source": [
        "### Answer 1\n",
        "Given:\n",
        "\n",
        "\n",
        "*   Input I of size\n",
        "5\n",
        "×\n",
        "5\n",
        "×\n",
        "2\n",
        "*   Filter\n",
        "𝐾\n",
        " of size\n",
        "3\n",
        "×\n",
        "3\n",
        "×\n",
        "2\n",
        "\n",
        "*   Bias = 1\n",
        "*   Stride = 2\n",
        "\n",
        "\n",
        "*   No padding\n",
        "\n",
        "\n",
        "\n",
        "Input Matrices:\n",
        "\n",
        "\n",
        "\\[I_1 =\n",
        "\\begin{bmatrix}\n",
        "2 & 2 & 0 & 1 & 1 \\\\\n",
        "2 & 1 & 0 & 1 & 0 \\\\\n",
        "1 & 2 & 0 & 2 & 1 \\\\\n",
        "2 & 0 & 1 & 0 & 1 \\\\\n",
        "1 & 0 & 0 & 1 & 2 \\\\\n",
        "\\end{bmatrix}\\]\n",
        "\n",
        "\n",
        "\n",
        "\\[I_2 = \\begin{bmatrix}\n",
        "1 & 1 & 0 & 2 & 2 \\\\\n",
        "1 & 0 & 2 & 1 & 0 \\\\\n",
        "1 & 2 & 2 & 1 & 2 \\\\\n",
        "0 & 1 & 0 & 1 & 1 \\\\\n",
        "0 & 0 & 1 & 2 & 2 \\\\\n",
        "\\end{bmatrix} \\]\n",
        "\n",
        "### Filter Matrices:\n",
        "\\[K_1 = \\begin{bmatrix}\n",
        "-1 & -1 & 0 \\\\\n",
        "-1 & -1 & 1 \\\\\n",
        "0 & 1 & 1 \\\\\n",
        "\\end{bmatrix} \\]\n",
        "\n",
        "\\[K_2 = \\begin{bmatrix}\n",
        "1 & 1 & 1 \\\\\n",
        "1 & 0 & -1 \\\\\n",
        "-1 & -1 & -1 \\\\\n",
        "\\end{bmatrix} \\]\n",
        "\n"
      ],
      "metadata": {
        "id": "nJQcr0aizTlT"
      }
    },
    {
      "cell_type": "markdown",
      "source": [],
      "metadata": {
        "id": "ETYhFtqSzTn0"
      }
    }
  ]
}