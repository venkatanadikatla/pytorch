{
  "nbformat": 4,
  "nbformat_minor": 0,
  "metadata": {
    "colab": {
      "provenance": [],
      "authorship_tag": "ABX9TyNPbLHdDugxdi4nPLzpH8WS",
      "include_colab_link": true
    },
    "kernelspec": {
      "name": "python3",
      "display_name": "Python 3"
    },
    "language_info": {
      "name": "python"
    }
  },
  "cells": [
    {
      "cell_type": "markdown",
      "metadata": {
        "id": "view-in-github",
        "colab_type": "text"
      },
      "source": [
        "<a href=\"https://colab.research.google.com/github/venkatanadikatla/pytorch/blob/main/Sample.ipynb\" target=\"_parent\"><img src=\"https://colab.research.google.com/assets/colab-badge.svg\" alt=\"Open In Colab\"/></a>"
      ]
    },
    {
      "cell_type": "code",
      "execution_count": 2,
      "metadata": {
        "colab": {
          "base_uri": "https://localhost:8080/"
        },
        "id": "ZEo1TYm9X8xA",
        "outputId": "64a4d33a-d10d-41de-b02a-fd1d86f2072b"
      },
      "outputs": [
        {
          "output_type": "stream",
          "name": "stdout",
          "text": [
            "Requirement already satisfied: nltk in /usr/local/lib/python3.10/dist-packages (3.8.1)\n",
            "Requirement already satisfied: click in /usr/local/lib/python3.10/dist-packages (from nltk) (8.1.7)\n",
            "Requirement already satisfied: joblib in /usr/local/lib/python3.10/dist-packages (from nltk) (1.4.2)\n",
            "Requirement already satisfied: regex>=2021.8.3 in /usr/local/lib/python3.10/dist-packages (from nltk) (2024.5.15)\n",
            "Requirement already satisfied: tqdm in /usr/local/lib/python3.10/dist-packages (from nltk) (4.66.4)\n"
          ]
        }
      ],
      "source": [
        "!pip install nltk"
      ]
    },
    {
      "cell_type": "code",
      "source": [
        "corpus = \"\"\"Hello NLP, this is me.\n",
        "looking into NLTK! this module to cover basics.\n",
        "\"\"\""
      ],
      "metadata": {
        "id": "EWqBN63jItCO"
      },
      "execution_count": 19,
      "outputs": []
    },
    {
      "cell_type": "code",
      "source": [
        "corpus"
      ],
      "metadata": {
        "colab": {
          "base_uri": "https://localhost:8080/",
          "height": 35
        },
        "id": "GOk6qtGgKpQN",
        "outputId": "bc4a3d11-b022-4232-e691-05f05033b0ac"
      },
      "execution_count": 20,
      "outputs": [
        {
          "output_type": "execute_result",
          "data": {
            "text/plain": [
              "'Hello NLP, this is me. \\nlooking into NLTK! this module to cover basics.\\n'"
            ],
            "application/vnd.google.colaboratory.intrinsic+json": {
              "type": "string"
            }
          },
          "metadata": {},
          "execution_count": 20
        }
      ]
    },
    {
      "cell_type": "code",
      "source": [
        "#Tokenization\n",
        "import nltk\n",
        "nltk.download('punkt')\n",
        "from nltk.tokenize import sent_tokenize, word_tokenize, wordpunct_tokenize\n",
        "sent_tokenize(corpus)"
      ],
      "metadata": {
        "colab": {
          "base_uri": "https://localhost:8080/"
        },
        "id": "fOQNT0RdKqU_",
        "outputId": "14959719-a94e-4a79-a3e2-de49b84ce19d"
      },
      "execution_count": 30,
      "outputs": [
        {
          "output_type": "stream",
          "name": "stderr",
          "text": [
            "[nltk_data] Downloading package punkt to /root/nltk_data...\n",
            "[nltk_data]   Package punkt is already up-to-date!\n"
          ]
        },
        {
          "output_type": "execute_result",
          "data": {
            "text/plain": [
              "['Hello NLP, this is me.',\n",
              " 'looking into NLTK!',\n",
              " 'this module to cover basics.']"
            ]
          },
          "metadata": {},
          "execution_count": 30
        }
      ]
    },
    {
      "cell_type": "code",
      "source": [
        "documents = word_tokenize(corpus)\n",
        "documents"
      ],
      "metadata": {
        "colab": {
          "base_uri": "https://localhost:8080/"
        },
        "id": "2DCF2OfiLcvf",
        "outputId": "d6a8540c-dc9f-470a-bbe1-2c141cadd4d7"
      },
      "execution_count": 31,
      "outputs": [
        {
          "output_type": "execute_result",
          "data": {
            "text/plain": [
              "['Hello',\n",
              " 'NLP',\n",
              " ',',\n",
              " 'this',\n",
              " 'is',\n",
              " 'me',\n",
              " '.',\n",
              " 'looking',\n",
              " 'into',\n",
              " 'NLTK',\n",
              " '!',\n",
              " 'this',\n",
              " 'module',\n",
              " 'to',\n",
              " 'cover',\n",
              " 'basics',\n",
              " '.']"
            ]
          },
          "metadata": {},
          "execution_count": 31
        }
      ]
    },
    {
      "cell_type": "code",
      "source": [
        "for word in documents:\n",
        "  print(word_tokenize(word))"
      ],
      "metadata": {
        "colab": {
          "base_uri": "https://localhost:8080/"
        },
        "id": "YwFNkthrNBAg",
        "outputId": "79e2c533-52d1-4955-b0c7-579fa59ed58b"
      },
      "execution_count": 32,
      "outputs": [
        {
          "output_type": "stream",
          "name": "stdout",
          "text": [
            "['Hello']\n",
            "['NLP']\n",
            "[',']\n",
            "['this']\n",
            "['is']\n",
            "['me']\n",
            "['.']\n",
            "['looking']\n",
            "['into']\n",
            "['NLTK']\n",
            "['!']\n",
            "['this']\n",
            "['module']\n",
            "['to']\n",
            "['cover']\n",
            "['basics']\n",
            "['.']\n"
          ]
        }
      ]
    },
    {
      "cell_type": "code",
      "source": [
        "\n",
        "wordpunct_tokenize(corpus)\n"
      ],
      "metadata": {
        "colab": {
          "base_uri": "https://localhost:8080/"
        },
        "id": "jMRBdHSCNTQL",
        "outputId": "5a087329-f0d9-43fc-dfb7-e387f1eb2c91"
      },
      "execution_count": 33,
      "outputs": [
        {
          "output_type": "execute_result",
          "data": {
            "text/plain": [
              "['Hello',\n",
              " 'NLP',\n",
              " ',',\n",
              " 'this',\n",
              " 'is',\n",
              " 'me',\n",
              " '.',\n",
              " 'looking',\n",
              " 'into',\n",
              " 'NLTK',\n",
              " '!',\n",
              " 'this',\n",
              " 'module',\n",
              " 'to',\n",
              " 'cover',\n",
              " 'basics',\n",
              " '.']"
            ]
          },
          "metadata": {},
          "execution_count": 33
        }
      ]
    },
    {
      "cell_type": "code",
      "source": [
        "from nltk import TreebankWordTokenizer\n",
        "tokenizer = TreebankWordTokenizer()\n",
        "tokenizer.tokenize(corpus)"
      ],
      "metadata": {
        "colab": {
          "base_uri": "https://localhost:8080/"
        },
        "id": "xDXpRizjN1Q6",
        "outputId": "b8870ba8-5fe3-4e56-9aea-4acb5080468b"
      },
      "execution_count": 34,
      "outputs": [
        {
          "output_type": "execute_result",
          "data": {
            "text/plain": [
              "['Hello',\n",
              " 'NLP',\n",
              " ',',\n",
              " 'this',\n",
              " 'is',\n",
              " 'me.',\n",
              " 'looking',\n",
              " 'into',\n",
              " 'NLTK',\n",
              " '!',\n",
              " 'this',\n",
              " 'module',\n",
              " 'to',\n",
              " 'cover',\n",
              " 'basics',\n",
              " '.']"
            ]
          },
          "metadata": {},
          "execution_count": 34
        }
      ]
    },
    {
      "cell_type": "markdown",
      "source": [
        "# Stemming:\n",
        "Stemming is the process of reducing a word to its word stem that affixes to suffixes and prefixes or to the roots of workds known as a lemma. Stemming is important in NLU and NLP"
      ],
      "metadata": {
        "id": "uCoTa11cOiAe"
      }
    },
    {
      "cell_type": "code",
      "source": [
        "words = ['eating', 'eats','eat', 'eaten', 'writing', 'wrote', 'writes', 'programming', 'programs']"
      ],
      "metadata": {
        "id": "sEbMatRtRFzS"
      },
      "execution_count": 37,
      "outputs": []
    },
    {
      "cell_type": "code",
      "source": [
        "from nltk.stem import PorterStemmer\n",
        "ps = PorterStemmer()\n",
        "ps"
      ],
      "metadata": {
        "colab": {
          "base_uri": "https://localhost:8080/"
        },
        "id": "iMG_4gvkOQur",
        "outputId": "b72309ab-59a8-422a-e7d1-d961dc689dd4"
      },
      "execution_count": 36,
      "outputs": [
        {
          "output_type": "execute_result",
          "data": {
            "text/plain": [
              "<PorterStemmer>"
            ]
          },
          "metadata": {},
          "execution_count": 36
        }
      ]
    },
    {
      "cell_type": "code",
      "source": [
        "for word in words:\n",
        "  print(word+\"---->\" +ps.stem(word))"
      ],
      "metadata": {
        "colab": {
          "base_uri": "https://localhost:8080/"
        },
        "id": "hK_tYV5YQ8vY",
        "outputId": "06ce73b3-98bb-48a2-f29f-88183d2c26ff"
      },
      "execution_count": 42,
      "outputs": [
        {
          "output_type": "stream",
          "name": "stdout",
          "text": [
            "eating---->eat\n",
            "eats---->eat\n",
            "eat---->eat\n",
            "eaten---->eaten\n",
            "writing---->write\n",
            "wrote---->wrote\n",
            "writes---->write\n",
            "programming---->program\n",
            "programs---->program\n"
          ]
        }
      ]
    },
    {
      "cell_type": "markdown",
      "source": [
        "# Using LaTeX in Google Colab\n",
        "\n",
        "This is an inline equation: $E = mc^2$.\n",
        "\n",
        "This is a display equation:\n",
        "\n",
        "$$\n",
        "\\int_{a}^{b} f(x) \\, dx = F(b) - F(a)\n",
        "$$\n",
        "\n",
        "### Convolution Result\n",
        "\n",
        "The result of the convolution operation is:\n",
        "\n",
        "$$\n",
        "\\begin{bmatrix}\n",
        "-8 & 1 \\\\\n",
        "0 & 2\n",
        "\\end{bmatrix}\n",
        "$$\n",
        "\n",
        "### Applying ReLU\n",
        "\n",
        "The result after applying ReLU is:\n",
        "\n",
        "$$\n",
        "\\begin{bmatrix}\n",
        "0 & 1 \\\\\n",
        "0 & 2\n",
        "\\end{bmatrix}\n",
        "$$\n"
      ],
      "metadata": {
        "id": "WQCdFFzKWlOF"
      }
    },
    {
      "cell_type": "markdown",
      "source": [
        "<br/>\n"
      ],
      "metadata": {
        "id": "UCjj-dD2sdzV"
      }
    },
    {
      "cell_type": "code",
      "source": [],
      "metadata": {
        "id": "1988m39ZWZWb"
      },
      "execution_count": null,
      "outputs": []
    }
  ]
}