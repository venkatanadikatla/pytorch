{
  "cells": [
    {
      "cell_type": "markdown",
      "metadata": {
        "id": "view-in-github",
        "colab_type": "text"
      },
      "source": [
        "<a href=\"https://colab.research.google.com/github/venkatanadikatla/pytorch/blob/main/RNN_with_SST_Better_Accuracy.ipynb\" target=\"_parent\"><img src=\"https://colab.research.google.com/assets/colab-badge.svg\" alt=\"Open In Colab\"/></a>"
      ]
    },
    {
      "cell_type": "code",
      "execution_count": 5,
      "metadata": {
        "colab": {
          "base_uri": "https://localhost:8080/"
        },
        "id": "clpLVXLlIeYz",
        "outputId": "dec44102-d903-4e3b-8d54-fcb629faeaac"
      },
      "outputs": [
        {
          "output_type": "stream",
          "name": "stdout",
          "text": [
            "Found existing installation: torchtext 0.6.0\n",
            "Uninstalling torchtext-0.6.0:\n",
            "  Successfully uninstalled torchtext-0.6.0\n",
            "Collecting torchtext==0.6.0\n",
            "  Using cached torchtext-0.6.0-py3-none-any.whl (64 kB)\n",
            "Requirement already satisfied: tqdm in /usr/local/lib/python3.10/dist-packages (from torchtext==0.6.0) (4.66.4)\n",
            "Requirement already satisfied: requests in /usr/local/lib/python3.10/dist-packages (from torchtext==0.6.0) (2.31.0)\n",
            "Requirement already satisfied: torch in /usr/local/lib/python3.10/dist-packages (from torchtext==0.6.0) (2.3.1+cu121)\n",
            "Requirement already satisfied: numpy in /usr/local/lib/python3.10/dist-packages (from torchtext==0.6.0) (1.25.2)\n",
            "Requirement already satisfied: six in /usr/local/lib/python3.10/dist-packages (from torchtext==0.6.0) (1.16.0)\n",
            "Requirement already satisfied: sentencepiece in /usr/local/lib/python3.10/dist-packages (from torchtext==0.6.0) (0.1.99)\n",
            "Requirement already satisfied: charset-normalizer<4,>=2 in /usr/local/lib/python3.10/dist-packages (from requests->torchtext==0.6.0) (3.3.2)\n",
            "Requirement already satisfied: idna<4,>=2.5 in /usr/local/lib/python3.10/dist-packages (from requests->torchtext==0.6.0) (3.7)\n",
            "Requirement already satisfied: urllib3<3,>=1.21.1 in /usr/local/lib/python3.10/dist-packages (from requests->torchtext==0.6.0) (2.0.7)\n",
            "Requirement already satisfied: certifi>=2017.4.17 in /usr/local/lib/python3.10/dist-packages (from requests->torchtext==0.6.0) (2024.7.4)\n",
            "Requirement already satisfied: filelock in /usr/local/lib/python3.10/dist-packages (from torch->torchtext==0.6.0) (3.15.4)\n",
            "Requirement already satisfied: typing-extensions>=4.8.0 in /usr/local/lib/python3.10/dist-packages (from torch->torchtext==0.6.0) (4.12.2)\n",
            "Requirement already satisfied: sympy in /usr/local/lib/python3.10/dist-packages (from torch->torchtext==0.6.0) (1.13.0)\n",
            "Requirement already satisfied: networkx in /usr/local/lib/python3.10/dist-packages (from torch->torchtext==0.6.0) (3.3)\n",
            "Requirement already satisfied: jinja2 in /usr/local/lib/python3.10/dist-packages (from torch->torchtext==0.6.0) (3.1.4)\n",
            "Requirement already satisfied: fsspec in /usr/local/lib/python3.10/dist-packages (from torch->torchtext==0.6.0) (2023.6.0)\n",
            "Requirement already satisfied: nvidia-cuda-nvrtc-cu12==12.1.105 in /usr/local/lib/python3.10/dist-packages (from torch->torchtext==0.6.0) (12.1.105)\n",
            "Requirement already satisfied: nvidia-cuda-runtime-cu12==12.1.105 in /usr/local/lib/python3.10/dist-packages (from torch->torchtext==0.6.0) (12.1.105)\n",
            "Requirement already satisfied: nvidia-cuda-cupti-cu12==12.1.105 in /usr/local/lib/python3.10/dist-packages (from torch->torchtext==0.6.0) (12.1.105)\n",
            "Requirement already satisfied: nvidia-cudnn-cu12==8.9.2.26 in /usr/local/lib/python3.10/dist-packages (from torch->torchtext==0.6.0) (8.9.2.26)\n",
            "Requirement already satisfied: nvidia-cublas-cu12==12.1.3.1 in /usr/local/lib/python3.10/dist-packages (from torch->torchtext==0.6.0) (12.1.3.1)\n",
            "Requirement already satisfied: nvidia-cufft-cu12==11.0.2.54 in /usr/local/lib/python3.10/dist-packages (from torch->torchtext==0.6.0) (11.0.2.54)\n",
            "Requirement already satisfied: nvidia-curand-cu12==10.3.2.106 in /usr/local/lib/python3.10/dist-packages (from torch->torchtext==0.6.0) (10.3.2.106)\n",
            "Requirement already satisfied: nvidia-cusolver-cu12==11.4.5.107 in /usr/local/lib/python3.10/dist-packages (from torch->torchtext==0.6.0) (11.4.5.107)\n",
            "Requirement already satisfied: nvidia-cusparse-cu12==12.1.0.106 in /usr/local/lib/python3.10/dist-packages (from torch->torchtext==0.6.0) (12.1.0.106)\n",
            "Requirement already satisfied: nvidia-nccl-cu12==2.20.5 in /usr/local/lib/python3.10/dist-packages (from torch->torchtext==0.6.0) (2.20.5)\n",
            "Requirement already satisfied: nvidia-nvtx-cu12==12.1.105 in /usr/local/lib/python3.10/dist-packages (from torch->torchtext==0.6.0) (12.1.105)\n",
            "Requirement already satisfied: triton==2.3.1 in /usr/local/lib/python3.10/dist-packages (from torch->torchtext==0.6.0) (2.3.1)\n",
            "Requirement already satisfied: nvidia-nvjitlink-cu12 in /usr/local/lib/python3.10/dist-packages (from nvidia-cusolver-cu12==11.4.5.107->torch->torchtext==0.6.0) (12.5.82)\n",
            "Requirement already satisfied: MarkupSafe>=2.0 in /usr/local/lib/python3.10/dist-packages (from jinja2->torch->torchtext==0.6.0) (2.1.5)\n",
            "Requirement already satisfied: mpmath<1.4,>=1.1.0 in /usr/local/lib/python3.10/dist-packages (from sympy->torch->torchtext==0.6.0) (1.3.0)\n",
            "Installing collected packages: torchtext\n",
            "Successfully installed torchtext-0.6.0\n"
          ]
        }
      ],
      "source": [
        "!pip uninstall -y torchtext\n",
        "!pip install torchtext==0.6.0"
      ]
    },
    {
      "cell_type": "code",
      "execution_count": 6,
      "metadata": {
        "id": "cibFuZirIoEF"
      },
      "outputs": [],
      "source": [
        "import copy # this module provides functions to duplicate objects. It seems to be imported but not yet used in the code\n",
        "import torch # The MAIN PyTorch package\n",
        "from torch import nn # contains the essential modules for building NN in pytorch.\n",
        "from torch import optim # Provides optimization algorithms, such as SGD, Adam, etc\n",
        "import torchtext # A library for text processing that works well with pytorch (Currently a version 0.6.0 is being used in this code)\n",
        "from torchtext import data # A module in torchtext used for data handling\n",
        "from torchtext import datasets # provides datasets, including various NLP datasets.\n",
        "\n",
        "TEXT = data.Field(sequential=True, batch_first=True, lower=True) # Sequential = True indicates that the data consists of sequences.\n",
        "#Batch_first=True Ensure that batch dimenstion is the first dimension in the tensor. # lower=True Converts all the text to lowercase\n",
        "\n",
        "LABEL = data.LabelField() # A subclass of Field specifically for handling labels in a classification task.\n",
        "\n",
        "# load data splits\n",
        "train_data, val_data, test_data = datasets.SST.splits(TEXT, LABEL) #datasets.SST.splits - Loads the Standford Sentiment Treebank(SST) dataset and splits the dataset\n",
        "\n",
        "# build dictionary\n",
        "# build_vocab: Creates a mapping from tokens(words) to indices. This is essential for converting text data into numerical form that can be used by NN.\n",
        "TEXT.build_vocab(train_data) # Builds the vocabulary for the text field using the training data.\n",
        "LABEL.build_vocab(train_data)# Builds the vocabulary for the label field using the training data.\n",
        "\n",
        "# hyperparameters\n",
        "vocab_size = len(TEXT.vocab) # the size of the vocabulary (number of unique tokens in the training data)\n",
        "label_size = len(LABEL.vocab) # the number of unique labels (classes) in the traning data\n",
        "padding_idx = TEXT.vocab.stoi['<pad>'] # The index used for padding sequences to the same length\n",
        "embedding_dim = 300  # The size of the word embeddings (dense vector representation of words)\n",
        "hidden_dim = 256 # Size of the hidden layers in the model\n",
        "dropout = 0.5\n",
        "num_layers = 2\n",
        "# patience =3\n",
        "\n",
        "# build iterators\n",
        "train_iter, val_iter, test_iter = data.BucketIterator.splits(\n",
        "    (train_data, val_data, test_data),\n",
        "    batch_size=64)\n",
        "\n",
        "# Data.bucketiterator.splits - Creates iterators for the training, validation and test sets.\n"
      ]
    },
    {
      "cell_type": "code",
      "source": [
        "# # Print a few examples from the raw training data\n",
        "# for i in range(50):\n",
        "#     print(vars(train_data.examples[i]))\n",
        "# import torch.nn.functional as F"
      ],
      "metadata": {
        "id": "nZuIUd-AoecG"
      },
      "execution_count": 7,
      "outputs": []
    },
    {
      "cell_type": "code",
      "source": [
        "# # Adding attention mechanism here to help the model focus on different part of the input sequence when making predictions.\n",
        "# class Attention(nn.Module):\n",
        "#     def __init__(self, hidden_dim):\n",
        "#         super(Attention, self).__init__()\n",
        "#         self.hidden_dim = hidden_dim\n",
        "#         self.attn = nn.Linear(hidden_dim * 2, hidden_dim)\n",
        "#         self.v = nn.Parameter(torch.rand(hidden_dim))\n",
        "\n",
        "#     def forward(self, hidden, encoder_outputs):\n",
        "#         timestep = encoder_outputs.size(1)\n",
        "#         # h = hidden.repeat(timestep, 1, 1).transpose(0, 1)\n",
        "#         h = hidden.unsqueeze(1).repeat(1, timestep, 1)\n",
        "#         print(f'h shape: {h.shape}')\n",
        "#         attn_energies = self.score(h, encoder_outputs)\n",
        "#         return F.functional.softmax(attn_energies, dim=1)\n",
        "\n",
        "#     def score(self, hidden, encoder_outputs):\n",
        "#         energy = torch.tanh(self.attn(torch.cat([hidden, encoder_outputs], 2)))\n",
        "#         energy = energy.transpose(2, 1)\n",
        "#         v = self.v.repeat(encoder_outputs.size(0), 1).unsqueeze(1)\n",
        "#         energy = torch.bmm(v, energy)\n",
        "#         return energy.squeeze(1)\n",
        "\n",
        "\n"
      ],
      "metadata": {
        "id": "3Z75aG8Coupi"
      },
      "execution_count": 8,
      "outputs": []
    },
    {
      "cell_type": "code",
      "execution_count": 9,
      "metadata": {
        "id": "DCtbhUqnIoGT"
      },
      "outputs": [],
      "source": [
        "class RNN (torch.nn.Module):\n",
        "  def __init__(self, vocab_size, embedding_dim, hidden_dim, output_dim, padding_idx,dropout, num_layers=2):\n",
        "    super().__init__()\n",
        "    self.vocab_size = vocab_size\n",
        "    self.embedding_dim = embedding_dim\n",
        "    self.hidden_dim = hidden_dim\n",
        "    self.label_size = label_size\n",
        "    self.num_layers = num_layers\n",
        "    self.dropout = nn.Dropout(dropout)\n",
        "    self.padding_idx = padding_idx\n",
        "    self.embedding = torch.nn.Embedding(vocab_size, embedding_dim,padding_idx = padding_idx)\n",
        "    # self.rnn = torch.nn.RNN(embedding_dim,hidden_dim, nonlinearity='relu',batch_first=True)\n",
        "    self.lstm = torch.nn.LSTM(embedding_dim,hidden_dim, num_layers=num_layers,dropout=dropout, batch_first=True, bidirectional=True)\n",
        "    # self.attention = Attention(hidden_dim)\n",
        "    self.fc = torch.nn.Linear(hidden_dim*2, output_dim) #hidden *2 because of BRNN\n",
        "\n",
        "\n",
        "  def zero_state(self, batch_size):\n",
        "    # Implement the function, which returns an initial hidden state.\n",
        "    return (torch.zeros(self.num_layers*2, batch_size, self.hidden_dim),\n",
        "            torch.zeros(self.num_layers*2, batch_size, self.hidden_dim))\n",
        "\n",
        "  def forward(self, text):\n",
        "    embedded = self.embedding(text)\n",
        "    embedded = self.dropout(embedded)\n",
        "    batch_size = text.size(0)\n",
        "    h_0, c_0 = self.zero_state(batch_size)\n",
        "    h_0, c_0 = h_0.to(text.device), c_0.to(text.device)  # Ensure the hidden state is on the same device as the input\n",
        "    output, (hidden,cell) = self.lstm(embedded, (h_0, c_0))\n",
        "    # Check dimensions\n",
        "    # print(f'lstm_output shape: {output.shape}')  # [batch_size, seq_len, hidden_dim * 2]\n",
        "    # print(f'hidden shape: {hidden.shape}')  # [num_layers * 2, batch_size, hidden_dim]\n",
        "\n",
        "\n",
        "    # hidden = hidden[-1]\n",
        "    hidden = torch.cat((hidden[-2,:,:], hidden[-1,:,:]), dim=1)\n",
        "    # print(f'concatenated hidden shape: {hidden.shape}')  # [batch_size, hidden_dim * 2]\n",
        "    # attn_weights = self.attention(hidden[-1], output)\n",
        "    # context = attn_weights.unsqueeze(1).bmm(output).squeeze(1)\n",
        "    # Check dimensions\n",
        "    # print(f'context shape: {context.shape}')  # [batch_size, hidden_dim * 2]\n",
        "\n",
        "    return self.fc(self.dropout(hidden))\n",
        "\n",
        "\n",
        "\n"
      ]
    },
    {
      "cell_type": "code",
      "execution_count": 10,
      "metadata": {
        "id": "d6ce0_3BIoI1"
      },
      "outputs": [],
      "source": [
        "def train_model(model,train_iter, optimizer, criterion, num_epochs =20):\n",
        "  model.train()\n",
        "  # best_val_loss = float('inf')\n",
        "  # patience_counter = 0\n",
        "  for epoch in range(num_epochs):\n",
        "    epoch_loss = 0\n",
        "    epoch_acc = 0\n",
        "    correct = 0\n",
        "    total = 0\n",
        "    for batch in train_iter:\n",
        "      optimizer.zero_grad()\n",
        "      text, labels = batch.text, batch.label\n",
        "      output = model(text)\n",
        "      loss = criterion(output, labels)\n",
        "      loss.backward()\n",
        "      optimizer.step()\n",
        "      epoch_loss += loss.item()\n",
        "      epoch_acc += (output.argmax(1) ==labels).sum().item()\n",
        "\n",
        "      _, predicted = torch.max(output.data,1)\n",
        "      total += labels.size(0)\n",
        "      correct += (predicted == labels).sum().item()\n",
        "\n",
        "    avg_loss = epoch_loss/len(train_iter)\n",
        "    avg_acc = epoch_acc/len(train_iter.dataset)\n",
        "\n",
        "    epoch_accuracy = 100*correct/total\n",
        "\n",
        "\n",
        "    print(f' Epoch {epoch+1}, Train Loss: {avg_loss}, Train Accuracy: {epoch_accuracy}')\n",
        "\n",
        "    #Early Stopping\n",
        "    # val_loss = eval_model(model, val_iter, criterion)\n",
        "    # if val_loss < best_val_loss:\n",
        "    #   best_val_loss = val_loss\n",
        "    #   patience_counter = 0\n",
        "\n",
        "    # else:\n",
        "    #   patience_counter +=1\n",
        "\n",
        "    # if patience_counter >= patience:\n",
        "    #   print('Early Stopping')\n",
        "    #   break\n",
        "\n"
      ]
    },
    {
      "cell_type": "code",
      "execution_count": 11,
      "metadata": {
        "id": "G-1jLhCCIoK3"
      },
      "outputs": [],
      "source": [
        "def eval_model(model, val_iter, criterion):\n",
        "  model.eval()\n",
        "  epoch_loss = 0\n",
        "  epoch_acc = 0\n",
        "  correct = 0\n",
        "  total = 0\n",
        "  for batch in val_iter:\n",
        "    text, labels = batch.text, batch.label\n",
        "    output = model(text)\n",
        "    loss = criterion(output, labels)\n",
        "    epoch_loss +=loss.item()\n",
        "    epoch_acc += (output.argmax(1)==labels).sum().item()\n",
        "    _, predicted = torch.max(output.data,1)\n",
        "    total += labels.size(0)\n",
        "    correct += (predicted == labels).sum().item()\n",
        "\n",
        "  avg_loss = epoch_loss/len(val_iter)\n",
        "  avg_acc = epoch_acc/len(val_iter.dataset)\n",
        "\n",
        "  epoch_accuracy = 100*avg_acc\n",
        "\n",
        "  print(f'Validation Loss: {avg_loss},  Validation Accuracy: {epoch_accuracy}')\n",
        "  return avg_loss\n",
        "\n",
        "\n"
      ]
    },
    {
      "cell_type": "code",
      "execution_count": 12,
      "metadata": {
        "id": "lJlXVgETIoPW"
      },
      "outputs": [],
      "source": [
        "def test_model(model, test_iter, criterion):\n",
        "  model.eval()\n",
        "  epoch_loss = 0\n",
        "  epoch_acc = 0\n",
        "  correct = 0\n",
        "  total = 0\n",
        "  for batch in test_iter:\n",
        "    text, labels = batch.text, batch.label\n",
        "    output = model(text)\n",
        "    loss = criterion(output, labels)\n",
        "    epoch_loss +=loss.item()\n",
        "    epoch_acc += (output.argmax(1)==labels).sum().item()\n",
        "    _, predicted = torch.max(output.data,1)\n",
        "    total += labels.size(0)\n",
        "    correct += (predicted == labels).sum().item()\n",
        "\n",
        "  avg_loss = epoch_loss/len(test_iter)\n",
        "  avg_acc = epoch_acc/len(test_iter.dataset)\n",
        "\n",
        "  epoch_accuracy = 100*correct/total\n",
        "\n",
        "  print(f'Test Loss: {avg_loss},  Test Accuracy: {epoch_accuracy}')\n",
        "\n",
        "\n"
      ]
    },
    {
      "cell_type": "code",
      "execution_count": 13,
      "metadata": {
        "id": "2udT32qiIoR1"
      },
      "outputs": [],
      "source": [
        "torch.manual_seed(42)\n",
        "# model = RNN(vocab_size,embedding_dim,hidden_dim,label_size, padding_idx, )\n",
        "model = RNN(vocab_size, embedding_dim, hidden_dim, label_size, padding_idx,dropout, num_layers)\n",
        "# optimizer = optim.Adam(model.parameters(), lr=0.0005)\n",
        "# optimizer = optim.SGD(model.parameters(), lr=0.001, momentum=0.9)\n",
        "# optimizer = optim.Adam(model.parameters(), lr=0.001, weight_decay=5e-4)\n",
        "# scheduler = torch.optim.lr_scheduler.StepLR(optimizer, step_size=10, gamma=0.1)\n",
        "# optimizer = optim.RMSprop(model.parameters(), lr=0.0001, alpha=0.9, weight_decay=1e-4)\n",
        "# scheduler = torch.optim.lr_scheduler.StepLR(optimizer, step_size=5, gamma=0.1)\n",
        "# optimizer = optim.AdamW(model.parameters(), lr=0.001, weight_decay=1e-4)\n",
        "# optimizer = optim.Adagrad(model.parameters(), lr=0.01)\n",
        "# optimizer = optim.Adadelta(model.parameters(), lr=1.0, rho=0.9)\n",
        "# optimizer = optim.Adamax(model.parameters(), lr=0.002)\n",
        "# optimizer = optim.NAdam(model.parameters(), lr=0.002)\n",
        "optimizer = optim.RMSprop(model.parameters(), lr=0.0001, alpha=0.9)\n",
        "\n",
        "\n",
        "criterion = nn.CrossEntropyLoss()\n",
        "\n",
        "# criterion = nn.CrossEntropyLoss()\n",
        "# optimizer = optim.Adam(model.parameters(), lr=0.001, weight_decay=5e-4)\n",
        "# scheduler = torch.optim.lr_scheduler.CyclicLR(optimizer, base_lr=1e-5, max_lr=1e-3, step_size_up=2000, mode='triangular')"
      ]
    },
    {
      "cell_type": "code",
      "execution_count": 14,
      "metadata": {
        "colab": {
          "base_uri": "https://localhost:8080/"
        },
        "id": "4igULcZIIoUq",
        "outputId": "3b1d5c19-c528-48f4-9c80-bdba7cc3cc8f"
      },
      "outputs": [
        {
          "metadata": {
            "tags": null
          },
          "name": "stdout",
          "output_type": "stream",
          "text": [
            " Epoch 1, Train Loss: 1.052043763559256, Train Accuracy: 42.450842696629216\n",
            " Epoch 2, Train Loss: 1.0396317577184135, Train Accuracy: 45.09597378277154\n",
            " Epoch 3, Train Loss: 1.0298721478946173, Train Accuracy: 46.2312734082397\n",
            " Epoch 4, Train Loss: 1.0163645642017252, Train Accuracy: 48.174157303370784\n",
            " Epoch 5, Train Loss: 1.0057631388529022, Train Accuracy: 49.64887640449438\n",
            " Epoch 6, Train Loss: 0.9976321876938663, Train Accuracy: 50.31601123595506\n",
            " Epoch 7, Train Loss: 0.9826569841868842, Train Accuracy: 52.62172284644195\n",
            " Epoch 8, Train Loss: 0.9713175136651566, Train Accuracy: 52.86750936329588\n",
            " Epoch 9, Train Loss: 0.9623201329316666, Train Accuracy: 54.33052434456929\n",
            " Epoch 10, Train Loss: 0.9484899306475226, Train Accuracy: 54.6933520599251\n",
            " Epoch 11, Train Loss: 0.9386264739641502, Train Accuracy: 55.52434456928839\n",
            " Epoch 12, Train Loss: 0.9327904648745238, Train Accuracy: 55.887172284644194\n",
            " Epoch 13, Train Loss: 0.9161145504730851, Train Accuracy: 57.71301498127341\n",
            " Epoch 14, Train Loss: 0.9014439587272814, Train Accuracy: 58.95365168539326\n",
            " Epoch 15, Train Loss: 0.8896623182652602, Train Accuracy: 59.18773408239701\n",
            " Epoch 16, Train Loss: 0.8706425997748304, Train Accuracy: 60.48689138576779\n",
            " Epoch 17, Train Loss: 0.8560113141785807, Train Accuracy: 61.77434456928839\n",
            " Epoch 18, Train Loss: 0.8447577762069987, Train Accuracy: 62.20739700374532\n",
            " Epoch 19, Train Loss: 0.8284612040021526, Train Accuracy: 62.97986891385768\n",
            " Epoch 20, Train Loss: 0.8249656589173558, Train Accuracy: 63.91619850187266\n"
          ]
        }
      ],
      "source": [
        "train_model(model,train_iter, optimizer, criterion, num_epochs =20)"
      ]
    },
    {
      "cell_type": "code",
      "execution_count": 15,
      "metadata": {
        "colab": {
          "base_uri": "https://localhost:8080/"
        },
        "id": "AfqOxjiPIoW4",
        "outputId": "ab315cc2-e2d1-4efb-83b6-7826c5e80e43"
      },
      "outputs": [
        {
          "output_type": "stream",
          "name": "stdout",
          "text": [
            "Validation Loss: 1.0505421823925443,  Validation Accuracy: 59.582198001816536\n"
          ]
        },
        {
          "output_type": "execute_result",
          "data": {
            "text/plain": [
              "1.0505421823925443"
            ]
          },
          "metadata": {},
          "execution_count": 15
        }
      ],
      "source": [
        "# Evaluate the model on validation data\n",
        "eval_model(model, val_iter, criterion)\n",
        "\n"
      ]
    },
    {
      "cell_type": "code",
      "execution_count": 16,
      "metadata": {
        "colab": {
          "base_uri": "https://localhost:8080/"
        },
        "id": "QX6K0JZkI9KL",
        "outputId": "d171fbb1-f009-40d7-8a4c-915da84f8ec5"
      },
      "outputs": [
        {
          "output_type": "stream",
          "name": "stdout",
          "text": [
            "Test Loss: 1.0167089785848344,  Test Accuracy: 60.04524886877828\n"
          ]
        }
      ],
      "source": [
        "# Evaluate the model on test data\n",
        "test_model (model, test_iter, criterion)"
      ]
    },
    {
      "cell_type": "code",
      "execution_count": null,
      "metadata": {
        "colab": {
          "base_uri": "https://localhost:8080/"
        },
        "id": "k70sF3r4YKI7",
        "outputId": "48eef6c6-6a1d-4bba-f30a-8b24b9130152"
      },
      "outputs": [
        {
          "data": {
            "text/plain": [
              "<torchtext.data.example.Example at 0x7cf08e8830d0>"
            ]
          },
          "execution_count": 11,
          "metadata": {},
          "output_type": "execute_result"
        }
      ],
      "source": [
        "test_data[43]"
      ]
    },
    {
      "cell_type": "code",
      "execution_count": null,
      "metadata": {
        "colab": {
          "base_uri": "https://localhost:8080/"
        },
        "id": "RTVWywNN1RHs",
        "outputId": "e0d815cc-5bda-4b92-f112-fc1bb82705af"
      },
      "outputs": [
        {
          "name": "stdout",
          "output_type": "stream",
          "text": [
            "Predicted: negative\n",
            "Actual: negative\n",
            "Loss: 0.001959072658792138\n",
            "Correct: True\n"
          ]
        }
      ],
      "source": [
        "device = torch.device('cuda' if torch.cuda.is_available() else 'cpu')\n",
        "model.to(device)\n",
        "def get_specific_data_point(data, index):\n",
        "    return data[index]\n",
        "\n",
        "# Evaluate a specific data point\n",
        "def evaluate_specific_data_point(model, data_point, text_field, label_field, criterion):\n",
        "    model.eval()\n",
        "\n",
        "    # Convert the data point to a tensor\n",
        "    text = text_field.process([data_point.text]).to(device)\n",
        "    label = torch.tensor([label_field.vocab.stoi[data_point.label]]).to(device)\n",
        "\n",
        "    with torch.no_grad():\n",
        "        output = model(text)\n",
        "        loss = criterion(output, label)\n",
        "\n",
        "        _, predicted = torch.max(output.data, 1)\n",
        "        is_correct = (predicted.item() == label.item())\n",
        "\n",
        "        print(f'Predicted: {label_field.vocab.itos[predicted.item()]}')\n",
        "        print(f'Actual: {data_point.label}')\n",
        "        print(f'Loss: {loss.item()}')\n",
        "        print(f'Correct: {is_correct}')\n",
        "\n",
        "# Get the specific data point\n",
        "specific_data_point = get_specific_data_point(test_data, 2000)\n",
        "\n",
        "# Evaluate the specific data point\n",
        "evaluate_specific_data_point(model, specific_data_point, TEXT, LABEL, criterion)"
      ]
    },
    {
      "cell_type": "code",
      "execution_count": null,
      "metadata": {
        "id": "IoaiI-IW1V44"
      },
      "outputs": [],
      "source": []
    },
    {
      "cell_type": "markdown",
      "metadata": {
        "id": "kHcZIe8nIf60"
      },
      "source": [
        "Used the following hyperparameters to increase the accuracy:\n",
        "\n",
        "1. Changed the embedding_dim and hidden_dim to 256 (dense vector representation of words) check if this simple change in hyperparameters could change the accuracy. However, test accuracy @ 56% was little less than my baseline model accuracy @ 58%\n",
        "2. With the addition of item#1 added the dropout regularization technique @0.3 to see if this can help increasing the accuracy. Doing this reduce the training accuracy to 83% and improved the test accuracyt to 57%, however, this is less than my baseline model accuracy.\n",
        "3. Now adding the LSTM to 2 layers, Increasing the learning rate to 0.0001 and removing the dropout all together to see if this will increase the acccuracy - Performance is not better than item#2 infact the test accuracy dropped to 52%.\n",
        "4. Now adding the LSTM to 2 layers, Increasing the learning rate to 0.0001 and adding the dropout (0.3) to see if this will increase the acccuracy - Apparently, there was no change in test accuracy. Reached test accuracy @ 51%.\n",
        "5. Updated the embedding dimension to 512 and hidden layers to 512, batch_size=128 and dropout =0.3 and lr=0.0001 - Still testing accuracy is not better than baseline model. Poor accuracy 53%\n",
        "6. Updating the batchsize =64 and increasing number of epochs =20 and leaving the same hyperparameters as item#5 other than batchsize and epochs for this attempt as wel - didn't perform any better - test accuracy is 53%\n",
        "7. Used BRNN LSTM and dropout rate and Adam optimizer weight decay - didn't help the model test performance, reached only 51% accuracy.\n",
        "8. Used BRNN LSTM and dropout ratge with SGD(optim.SGD(model.parameters(), lr=0.001, momentum=0.9)) - poor model test accuracy @ 42%\n",
        "9. Used BRNN LSTM and dropout rate 0.5 with optim.RMSprop(model.parameters(), lr=0.001, alpha=0.9) - poor model test accuracy @ 57% but less than baseline model accuracy.\n",
        "10. Used BRNN LSTM and dropout rate 0.5 with optim.RMSprop(model.parameters(), lr=0.0001, alpha=0.9), reduced the hidden_layers to 256 and raised epochs to 20 - ***Got the better accuracy than the base line model - Test accuracy 59%***\n",
        "11. Used BRNN LSTM, removed dropout with optim.RMSprop(model.parameters(), lr=0.0001, alpha=0.9), reduced the hidden_layers to 256 and raised epochs to 20 - ***Got the better accuracy than the base line model - Test accuracy 59.5%***\n",
        "12. Used BRNN LSTM, removed dropout with optim.RMSprop(model.parameters(), lr=0.0001, alpha=0.9, weight_decay=1e-4), reduced the hidden_layers to 256 and raised epochs to 20 - ***Got the poor accuracy than the base line model - Test accuracy 53.5%***\n",
        "13. Used BRNN LSTM, added dropout with optim.AdamW(model.parameters(), lr=0.001, weight_decay=1e-4), reduced the hidden_layers to 256 and raised epochs to 20 - ***Got the same accuracy as base line model - test accuracy 58.9%***\n",
        "14. Used BRNN LSTM, added dropout with optimizer = optim.Adagrad(model.parameters(), lr=0.01), reduced the hidden_layers to 256 and raised epochs to 20 - ***Got the  accuracy less than base line model - test accuracy of 57%***\n",
        "15. Used BRNN LSTM, added dropout with optimizer = optim.Adadelta(model.parameters(), lr=1.0, rho=0.9) , reduced the hidden_layers to 256 and raised epochs to 20 - ***Got the  same accuracy as base line model - test accuracy of 58.2%***\n",
        "16. Used BRNN LSTM, added dropout with optimizer = optim.Adamax(model.parameters(), lr=0.002) , reduced the hidden_layers to 256 and raised epochs to 20 - ***Got the accuracy less than base line model - test accuracy of 56.7%***\n",
        "17.  Used BRNN LSTM, added dropout with optimizer = optim.NAdam(model.parameters(), lr=0.002) , reduced the hidden_layers to 256 and reduced epochs to 10 - ***Got the accuracy less than base line model - test accuracy of 57.8%***\n",
        "18. Used BRNN LSTM, added dropout with optim.RMSprop(model.parameters(), lr=0.0001, alpha=0.9, weight_decay=1e-4) and in addition added early stoping regularization technique , reduced the hidden_layers to 256 and  epochs to 20 - ***Got the accuracy less than base line model - test accuracy of 57.2%***\n",
        "\n",
        ""
      ]
    },
    {
      "cell_type": "code",
      "execution_count": 93,
      "metadata": {
        "id": "bdudyr6QJ2rB"
      },
      "outputs": [],
      "source": []
    },
    {
      "cell_type": "code",
      "source": [],
      "metadata": {
        "id": "_xt5iKk1N6_v"
      },
      "execution_count": null,
      "outputs": []
    }
  ],
  "metadata": {
    "colab": {
      "provenance": [],
      "gpuType": "T4",
      "authorship_tag": "ABX9TyOY2klPXEU/CbloxHixW+aI",
      "include_colab_link": true
    },
    "kernelspec": {
      "display_name": "Python 3",
      "name": "python3"
    },
    "language_info": {
      "name": "python"
    },
    "accelerator": "GPU"
  },
  "nbformat": 4,
  "nbformat_minor": 0
}