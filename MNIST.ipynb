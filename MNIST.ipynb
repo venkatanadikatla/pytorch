{
  "cells": [
    {
      "cell_type": "markdown",
      "metadata": {
        "id": "view-in-github",
        "colab_type": "text"
      },
      "source": [
        "<a href=\"https://colab.research.google.com/github/venkatanadikatla/pytorch/blob/main/MNIST.ipynb\" target=\"_parent\"><img src=\"https://colab.research.google.com/assets/colab-badge.svg\" alt=\"Open In Colab\"/></a>"
      ]
    },
    {
      "cell_type": "markdown",
      "source": [
        "### Project Summary:\n",
        "This project involves building and training a Convolutional Neural Network (CNN) using the MNIST dataset to classify handwritten digits. The MNIST dataset contains 60,000 training images and 10,000 testing images, each of which is a 28x28 grayscale image representing a digit from 0 to 9. The goal is to achieve high accuracy in digit classification.\n",
        "\n",
        "### Model Architecture:\n",
        "The CNN model consists of the following layers:\n",
        "\n",
        "### Conv2d Layer 1:\n",
        "Takes in a single-channel image (1, 28, 28) and outputs 32 channels. The kernel size is 3x3, with a stride of 1 and padding of 1 to preserve the input dimensions.\n",
        "### MaxPool Layer 1:\n",
        "Reduces the spatial dimensions by half using a 2x2 kernel with a stride of 2.\n",
        "### Conv2d Layer 2:\n",
        "Takes in the 32 channels from the previous layer and outputs 64 channels. The kernel size is 3x3, with a stride of 1 and padding of 1.\n",
        "### MaxPool Layer 2:\n",
        "Again reduces the spatial dimensions by half.\n",
        "### Fully Connected Layer 1: After flattening the feature maps, it connects to 128 neurons.\n",
        "### Fully Connected Layer 2:\n",
        "Connects the 128 neurons to 10 output neurons, corresponding to the 10 digit classes.\n",
        "### Training and Validation:\n",
        "Epochs: 10\n",
        "Batch Size: 64\n",
        "Optimizer: Adam with a learning rate of 0.001\n",
        "Loss Function: Cross-Entropy Loss\n",
        "\n",
        "### Performance Metrics:\n",
        "Training Accuracy: Percentage of correct predictions on the training dataset.\n",
        "Validation Accuracy: Percentage of correct predictions on the validation dataset.\n",
        "Test Accuracy: Percentage of correct predictions on the test dataset.\n",
        "\n",
        "### Results:\n",
        "After training for 10 epochs, the model achieved the following results:\n",
        "\n",
        "#### Training Accuracy:\n",
        "Consistently high, indicating the model is learning the training data well.\n",
        "#### Validation Accuracy:\n",
        "Close to the training accuracy, suggesting the model generalizes well to unseen data.\n",
        "#### Test Accuracy:\n",
        "Achieved a high test accuracy of 98.99%, demonstrating the model's robustness and effectiveness in classifying handwritten digits."
      ],
      "metadata": {
        "id": "-pJ38ViGdIyN"
      }
    },
    {
      "cell_type": "code",
      "execution_count": null,
      "metadata": {
        "id": "xZV1aIH-l8WP"
      },
      "outputs": [],
      "source": [
        "import torch\n",
        "import torch.nn as nn\n",
        "import torch.optim as optim\n",
        "from torch.utils.data import DataLoader, random_split\n",
        "import torchvision\n",
        "import torchvision.transforms as transforms\n",
        "import matplotlib.pyplot as plt\n",
        "import torch.nn.functional as F"
      ]
    },
    {
      "cell_type": "markdown",
      "source": [],
      "metadata": {
        "id": "M-rxshKEdHDn"
      }
    },
    {
      "cell_type": "code",
      "execution_count": null,
      "metadata": {
        "id": "zpCDX4Nhl9iU"
      },
      "outputs": [],
      "source": [
        "\n",
        "# 1. Load and Normalize the Dataset\n",
        "transform = transforms.Compose([transforms.ToTensor(), transforms.Normalize((0.5,), (0.5,))])\n",
        "training_data = torchvision.datasets.MNIST(root='./data', train=True, download=True, transform=transform)\n",
        "testing_data = torchvision.datasets.MNIST(root='./data', train=False, download=True, transform=transform)"
      ]
    },
    {
      "cell_type": "code",
      "execution_count": null,
      "metadata": {
        "colab": {
          "base_uri": "https://localhost:8080/"
        },
        "id": "r9C0y_mJmRRa",
        "outputId": "0e9583d7-2071-4cc1-dcfd-06e04f4f9077"
      },
      "outputs": [
        {
          "output_type": "execute_result",
          "data": {
            "text/plain": [
              "Dataset MNIST\n",
              "    Number of datapoints: 60000\n",
              "    Root location: ./data\n",
              "    Split: Train\n",
              "    StandardTransform\n",
              "Transform: Compose(\n",
              "               ToTensor()\n",
              "               Normalize(mean=(0.5,), std=(0.5,))\n",
              "           )"
            ]
          },
          "metadata": {},
          "execution_count": 44
        }
      ],
      "source": [
        "training_data"
      ]
    },
    {
      "cell_type": "code",
      "execution_count": null,
      "metadata": {
        "id": "m5P1P0hPy5eh"
      },
      "outputs": [],
      "source": [
        "#Splitting the training, validation, and testing set:\n",
        "\n",
        "train_size = int(0.8*len(training_data))\n",
        "val_size = len(training_data)-train_size\n",
        "train_data, val_data = random_split(training_data, [train_size, val_size])\n"
      ]
    },
    {
      "cell_type": "code",
      "execution_count": null,
      "metadata": {
        "id": "UoZdxBMd7HW2"
      },
      "outputs": [],
      "source": [
        "#Creating a batch_size: using batch 64 as it is commonly used for training models like MNIST\n",
        "\n",
        "train_loader = DataLoader(train_data, batch_size=64, shuffle=True)\n",
        "val_loader = DataLoader(val_data, batch_size = 64, shuffle =False)\n",
        "test_loader = DataLoader(testing_data, batch_size=64, shuffle=False)"
      ]
    },
    {
      "cell_type": "code",
      "execution_count": null,
      "metadata": {
        "id": "zyHE7vA49rLh"
      },
      "outputs": [],
      "source": [
        "#Creating a class that instantiate a CNN module:\n",
        "class CNN(nn.Module):\n",
        "  def __init__(self):\n",
        "    super().__init__()\n",
        "    self.conv1 = nn.Conv2d(in_channels=1, out_channels = 32, kernel_size =3, stride=1, padding=1)\n",
        "    self.pool = nn.MaxPool2d(kernel_size=2, stride=2, padding =0)\n",
        "    self.conv2 = nn.Conv2d(in_channels=32, out_channels = 64, kernel_size =3, stride=1, padding=1)\n",
        "    self.fc1 = nn.Linear(64*7*7, 128)\n",
        "    self.fc2 = nn.Linear(128, 10)\n",
        "    self.relu = nn.ReLU()\n",
        "    # self.dropout = nn.Dropout(0.5)\n",
        "\n",
        "\n",
        "  def forward(self, X):\n",
        "    X = self.pool(F.relu(self.conv1(X)))\n",
        "    X = self.pool(F.relu(self.conv2(X)))\n",
        "    X = X.view(-1, 64*7*7)\n",
        "    X = F.relu(self.fc1(X))\n",
        "    # X = self.dropout(X)\n",
        "    X = self.fc2(X)\n",
        "\n",
        "\n",
        "    return F.log_softmax(X, dim=1)\n",
        "\n",
        "\n",
        "\n"
      ]
    },
    {
      "cell_type": "code",
      "execution_count": null,
      "metadata": {
        "id": "aCEUb3qLOORk"
      },
      "outputs": [],
      "source": [
        "torch.manual_seed(42)\n",
        "model = CNN()"
      ]
    },
    {
      "cell_type": "code",
      "execution_count": null,
      "metadata": {
        "colab": {
          "base_uri": "https://localhost:8080/"
        },
        "id": "6yZQhl0JOnNi",
        "outputId": "587eafed-a5f8-486e-8fa6-e5df20c9c98a"
      },
      "outputs": [
        {
          "output_type": "execute_result",
          "data": {
            "text/plain": [
              "CNN(\n",
              "  (conv1): Conv2d(1, 32, kernel_size=(3, 3), stride=(1, 1), padding=(1, 1))\n",
              "  (pool): MaxPool2d(kernel_size=2, stride=2, padding=0, dilation=1, ceil_mode=False)\n",
              "  (conv2): Conv2d(32, 64, kernel_size=(3, 3), stride=(1, 1), padding=(1, 1))\n",
              "  (fc1): Linear(in_features=3136, out_features=128, bias=True)\n",
              "  (fc2): Linear(in_features=128, out_features=10, bias=True)\n",
              "  (relu): ReLU()\n",
              ")"
            ]
          },
          "metadata": {},
          "execution_count": 61
        }
      ],
      "source": [
        "model"
      ]
    },
    {
      "cell_type": "code",
      "execution_count": null,
      "metadata": {
        "id": "Qwz-58jiQOXC"
      },
      "outputs": [],
      "source": [
        "#Loss Function Optimizer\n",
        "criterion = nn.CrossEntropyLoss()\n",
        "optimizer = optim.Adam(model.parameters(), lr=0.001)\n"
      ]
    },
    {
      "cell_type": "code",
      "execution_count": null,
      "metadata": {
        "colab": {
          "base_uri": "https://localhost:8080/"
        },
        "id": "PZfOIU6TQiRK",
        "outputId": "7e743cff-faef-40b7-f3ae-7cf92dbde56d"
      },
      "outputs": [
        {
          "output_type": "stream",
          "name": "stdout",
          "text": [
            "Epoch [1/10], Train Loss: 0.1919, Val Loss: 0.0617, Train Acc: 94.20, Val Acc: 98.03\n",
            "Epoch [2/10], Train Loss: 0.0532, Val Loss: 0.0492, Train Acc: 98.34, Val Acc: 98.42\n",
            "Epoch [3/10], Train Loss: 0.0366, Val Loss: 0.0377, Train Acc: 98.89, Val Acc: 98.88\n",
            "Epoch [4/10], Train Loss: 0.0259, Val Loss: 0.0440, Train Acc: 99.18, Val Acc: 98.67\n",
            "Epoch [5/10], Train Loss: 0.0206, Val Loss: 0.0361, Train Acc: 99.29, Val Acc: 99.03\n",
            "Epoch [6/10], Train Loss: 0.0156, Val Loss: 0.0402, Train Acc: 99.51, Val Acc: 98.86\n",
            "Epoch [7/10], Train Loss: 0.0125, Val Loss: 0.0394, Train Acc: 99.57, Val Acc: 98.88\n",
            "Epoch [8/10], Train Loss: 0.0103, Val Loss: 0.0377, Train Acc: 99.65, Val Acc: 99.00\n",
            "Epoch [9/10], Train Loss: 0.0074, Val Loss: 0.0490, Train Acc: 99.76, Val Acc: 98.87\n",
            "Epoch [10/10], Train Loss: 0.0081, Val Loss: 0.0402, Train Acc: 99.73, Val Acc: 99.10\n",
            "Training Time: 12.065629176298778 Minutes\n"
          ]
        }
      ],
      "source": [
        "import time\n",
        "\n",
        "start_time = time.time()\n",
        "#Create variables to track things\n",
        "\n",
        "epochs = 10\n",
        "train_losses =[]\n",
        "val_losses = []\n",
        "train_accuracies =[]\n",
        "val_accuracies = []\n",
        "\n",
        "for epoch in range(epochs):\n",
        "  model.train()\n",
        "  running_loss, correct, total =0.0,0,0\n",
        "  for images, labels in train_loader:\n",
        "    optimizer.zero_grad()\n",
        "    outputs = model(images)\n",
        "    loss = criterion(outputs, labels)\n",
        "    loss.backward()\n",
        "    optimizer.step()\n",
        "    running_loss += loss.item()\n",
        "    _, predicted = torch.max(outputs.data,1)\n",
        "    total += labels.size(0)\n",
        "    correct += (predicted == labels).sum().item()\n",
        "\n",
        "  train_losses.append(running_loss/len(train_loader))\n",
        "  train_accuracies.append(100*correct/total)\n",
        "\n",
        "\n",
        "  model.eval()\n",
        "  running_loss, correct, total = 0.0,0,0\n",
        "  with torch.no_grad():\n",
        "    for images, labels in val_loader:\n",
        "      outputs = model(images)\n",
        "      loss = criterion(outputs, labels)\n",
        "      running_loss +=loss.item()\n",
        "      _, predicted = torch.max(outputs.data,1)\n",
        "      total += labels.size(0)\n",
        "      correct += (predicted ==labels).sum().item()\n",
        "  val_losses.append(running_loss/len(val_loader))\n",
        "  val_accuracies.append(100*correct/total)\n",
        "\n",
        "  print(f'Epoch [{epoch+1}/{epochs}], Train Loss: {train_losses[-1]:.4f}, Val Loss: {val_losses[-1]:.4f}, Train Acc: {train_accuracies[-1]:.2f}, Val Acc: {val_accuracies[-1]:.2f}')\n",
        "\n",
        "\n",
        "current_time = time.time()\n",
        "\n",
        "total = current_time - start_time\n",
        "\n",
        "print(f'Training Time: {total/60} Minutes')"
      ]
    },
    {
      "cell_type": "code",
      "execution_count": null,
      "metadata": {
        "colab": {
          "base_uri": "https://localhost:8080/",
          "height": 487
        },
        "id": "xMHosTx4Q4tN",
        "outputId": "07feef86-1b63-403d-d97f-ec1ae2863c4c"
      },
      "outputs": [
        {
          "output_type": "display_data",
          "data": {
            "text/plain": [
              "<Figure size 1000x500 with 2 Axes>"
            ],
            "image/png": "[encoded data removed]"
          },
          "metadata": {}
        }
      ],
      "source": [
        "#Plot the training loss and validation loss as a function of epochs.\n",
        "#Plot the both training accuracy and validation accuracy as a function of epochs\n",
        "\n",
        "plt.figure(figsize=(10,5))\n",
        "plt.subplot(1,2,1)\n",
        "plt.plot(range(1, epochs+1), train_losses, label ='Training_Loss')\n",
        "plt.plot(range(1, epochs+1), val_losses, label = 'Validation_Loss')\n",
        "plt.xlabel('Epochs')\n",
        "plt.ylabel('Loss')\n",
        "plt.legend()\n",
        "plt.title('Training and Validation Loss')\n",
        "\n",
        "plt.subplot(1,2,2)\n",
        "plt.plot(range(1, epochs+1), train_accuracies, label = 'Training_Accuracy')\n",
        "plt.plot (range(1, epochs+1), val_accuracies, label = 'Validation_Accuracy')\n",
        "plt.xlabel('Epochs')\n",
        "plt.ylabel('Accuracy')\n",
        "plt.legend()\n",
        "plt.title('Training and Validation Accuracy')\n",
        "plt.show()\n"
      ]
    },
    {
      "cell_type": "code",
      "execution_count": null,
      "metadata": {
        "colab": {
          "base_uri": "https://localhost:8080/"
        },
        "id": "gPqWLMxqJtad",
        "outputId": "f1b86af6-a4b3-41e3-c626-2e67bcdbcd26"
      },
      "outputs": [
        {
          "output_type": "stream",
          "name": "stdout",
          "text": [
            "Test_Accuracy: 98.99%\n"
          ]
        }
      ],
      "source": [
        "# 5. Evaluate on Test Data\n",
        "model.eval()\n",
        "correct, total =0,0\n",
        "\n",
        "with torch.no_grad():\n",
        "  for images, labels in test_loader:\n",
        "    outputs = model(images)\n",
        "    _, predicted = torch.max(outputs.data,1)\n",
        "    total += labels.size(0)\n",
        "    correct += (predicted == labels).sum().item()\n",
        "  test_accuracy = 100*correct/total\n",
        "  print(f'Test_Accuracy: {test_accuracy:.2f}%')\n",
        "\n",
        "\n"
      ]
    },
    {
      "cell_type": "markdown",
      "source": [
        "### Conclusion:\n",
        "The high test accuracy of 98.99% indicates that the CNN model is highly effective at classifying handwritten digits from the MNIST dataset. The careful design of the model architecture, coupled with normalization (Provided in the assignment) and effective optimization, contributes to its strong performance. This model can serve as a robust baseline for further enhancements, such as incorporating data augmentation and dropout regularization, to potentially achieve even better results."
      ],
      "metadata": {
        "id": "E79qpJzCd3SG"
      }
    },
    {
      "cell_type": "code",
      "execution_count": null,
      "metadata": {
        "id": "KhZNlsLXYGKy"
      },
      "outputs": [],
      "source": []
    }
  ],
  "metadata": {
    "accelerator": "GPU",
    "colab": {
      "gpuType": "T4",
      "provenance": [],
      "authorship_tag": "ABX9TyMBw6413Qk64SZGEM1vlmI+",
      "include_colab_link": true
    },
    "kernelspec": {
      "display_name": "Python 3",
      "name": "python3"
    },
    "language_info": {
      "name": "python"
    }
  },
  "nbformat": 4,
  "nbformat_minor": 0
}