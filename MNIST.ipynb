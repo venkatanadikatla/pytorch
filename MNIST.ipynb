{
  "nbformat": 4,
  "nbformat_minor": 0,
  "metadata": {
    "colab": {
      "provenance": [],
      "gpuType": "T4",
      "authorship_tag": "ABX9TyNNgDB6k/+2rNy4B0y6xMdL",
      "include_colab_link": true
    },
    "kernelspec": {
      "name": "python3",
      "display_name": "Python 3"
    },
    "language_info": {
      "name": "python"
    },
    "accelerator": "GPU"
  },
  "cells": [
    {
      "cell_type": "markdown",
      "metadata": {
        "id": "view-in-github",
        "colab_type": "text"
      },
      "source": [
        "<a href=\"https://colab.research.google.com/github/venkatanadikatla/pytorch/blob/main/MNIST.ipynb\" target=\"_parent\"><img src=\"https://colab.research.google.com/assets/colab-badge.svg\" alt=\"Open In Colab\"/></a>"
      ]
    },
    {
      "cell_type": "code",
      "execution_count": 1,
      "metadata": {
        "id": "xZV1aIH-l8WP"
      },
      "outputs": [],
      "source": [
        "import torch\n",
        "import torch.nn as nn\n",
        "import torch.optim as optim\n",
        "from torch.utils.data import DataLoader, random_split\n",
        "import torchvision\n",
        "import torchvision.transforms as transforms\n",
        "import matplotlib.pyplot as plt"
      ]
    },
    {
      "cell_type": "code",
      "source": [
        "\n",
        "# 1. Load and Normalize the Dataset\n",
        "transform = transforms.Compose([transforms.ToTensor(), transforms.Normalize((0.5,), (0.5,))])\n",
        "training_data = torchvision.datasets.MNIST(root='./data', train=True, download=True, transform=transform)\n",
        "testing_data = torchvision.datasets.MNIST(root='./data', train=False, download=True, transform=transform)"
      ],
      "metadata": {
        "colab": {
          "base_uri": "https://localhost:8080/"
        },
        "id": "zpCDX4Nhl9iU",
        "outputId": "139e5040-f1b9-4104-b1ba-c68e9d0671d1"
      },
      "execution_count": 2,
      "outputs": [
        {
          "output_type": "stream",
          "name": "stdout",
          "text": [
            "Downloading http://yann.lecun.com/exdb/mnist/train-images-idx3-ubyte.gz\n",
            "Failed to download (trying next):\n",
            "HTTP Error 403: Forbidden\n",
            "\n",
            "Downloading https://ossci-datasets.s3.amazonaws.com/mnist/train-images-idx3-ubyte.gz\n",
            "Downloading https://ossci-datasets.s3.amazonaws.com/mnist/train-images-idx3-ubyte.gz to ./data/MNIST/raw/train-images-idx3-ubyte.gz\n"
          ]
        },
        {
          "output_type": "stream",
          "name": "stderr",
          "text": [
            "100%|██████████| 9912422/9912422 [00:01<00:00, 5361321.93it/s]\n"
          ]
        },
        {
          "output_type": "stream",
          "name": "stdout",
          "text": [
            "Extracting ./data/MNIST/raw/train-images-idx3-ubyte.gz to ./data/MNIST/raw\n",
            "\n",
            "Downloading http://yann.lecun.com/exdb/mnist/train-labels-idx1-ubyte.gz\n",
            "Failed to download (trying next):\n",
            "HTTP Error 403: Forbidden\n",
            "\n",
            "Downloading https://ossci-datasets.s3.amazonaws.com/mnist/train-labels-idx1-ubyte.gz\n",
            "Downloading https://ossci-datasets.s3.amazonaws.com/mnist/train-labels-idx1-ubyte.gz to ./data/MNIST/raw/train-labels-idx1-ubyte.gz\n"
          ]
        },
        {
          "output_type": "stream",
          "name": "stderr",
          "text": [
            "100%|██████████| 28881/28881 [00:00<00:00, 157433.38it/s]\n"
          ]
        },
        {
          "output_type": "stream",
          "name": "stdout",
          "text": [
            "Extracting ./data/MNIST/raw/train-labels-idx1-ubyte.gz to ./data/MNIST/raw\n",
            "\n",
            "Downloading http://yann.lecun.com/exdb/mnist/t10k-images-idx3-ubyte.gz\n",
            "Failed to download (trying next):\n",
            "HTTP Error 403: Forbidden\n",
            "\n",
            "Downloading https://ossci-datasets.s3.amazonaws.com/mnist/t10k-images-idx3-ubyte.gz\n",
            "Downloading https://ossci-datasets.s3.amazonaws.com/mnist/t10k-images-idx3-ubyte.gz to ./data/MNIST/raw/t10k-images-idx3-ubyte.gz\n"
          ]
        },
        {
          "output_type": "stream",
          "name": "stderr",
          "text": [
            "100%|██████████| 1648877/1648877 [00:01<00:00, 1274008.26it/s]\n"
          ]
        },
        {
          "output_type": "stream",
          "name": "stdout",
          "text": [
            "Extracting ./data/MNIST/raw/t10k-images-idx3-ubyte.gz to ./data/MNIST/raw\n",
            "\n",
            "Downloading http://yann.lecun.com/exdb/mnist/t10k-labels-idx1-ubyte.gz\n",
            "Failed to download (trying next):\n",
            "HTTP Error 403: Forbidden\n",
            "\n",
            "Downloading https://ossci-datasets.s3.amazonaws.com/mnist/t10k-labels-idx1-ubyte.gz\n",
            "Downloading https://ossci-datasets.s3.amazonaws.com/mnist/t10k-labels-idx1-ubyte.gz to ./data/MNIST/raw/t10k-labels-idx1-ubyte.gz\n"
          ]
        },
        {
          "output_type": "stream",
          "name": "stderr",
          "text": [
            "100%|██████████| 4542/4542 [00:00<00:00, 7262877.91it/s]"
          ]
        },
        {
          "output_type": "stream",
          "name": "stdout",
          "text": [
            "Extracting ./data/MNIST/raw/t10k-labels-idx1-ubyte.gz to ./data/MNIST/raw\n",
            "\n"
          ]
        },
        {
          "output_type": "stream",
          "name": "stderr",
          "text": [
            "\n"
          ]
        }
      ]
    },
    {
      "cell_type": "code",
      "source": [
        "training_data"
      ],
      "metadata": {
        "colab": {
          "base_uri": "https://localhost:8080/"
        },
        "id": "r9C0y_mJmRRa",
        "outputId": "d68a6fca-2f0a-4195-f775-f7d5902878f6"
      },
      "execution_count": 3,
      "outputs": [
        {
          "output_type": "execute_result",
          "data": {
            "text/plain": [
              "Dataset MNIST\n",
              "    Number of datapoints: 60000\n",
              "    Root location: ./data\n",
              "    Split: Train\n",
              "    StandardTransform\n",
              "Transform: Compose(\n",
              "               ToTensor()\n",
              "               Normalize(mean=(0.5,), std=(0.5,))\n",
              "           )"
            ]
          },
          "metadata": {},
          "execution_count": 3
        }
      ]
    },
    {
      "cell_type": "code",
      "source": [
        "#Splitting the training, validation, and testing set:\n",
        "\n",
        "train_size = int(0.8*len(training_data))\n",
        "val_size = len(training_data)-train_size\n",
        "train_size, val_size = random_split(training_data, [train_size, val_size])\n"
      ],
      "metadata": {
        "id": "m5P1P0hPy5eh"
      },
      "execution_count": 4,
      "outputs": []
    },
    {
      "cell_type": "code",
      "source": [
        "#Creating a batch_size: using batch 64 as it is commonly used for training models like MNIST\n",
        "\n",
        "train_loader = DataLoader(train_size, batch_size=64, shuffle=True)\n",
        "val_loader = DataLoader(val_size, batch_size = 64, shuffle =False)\n",
        "test_loader = DataLoader(testing_data, batch_size=64, shuffle=False)"
      ],
      "metadata": {
        "id": "UoZdxBMd7HW2"
      },
      "execution_count": 5,
      "outputs": []
    },
    {
      "cell_type": "code",
      "source": [
        "#Creating a class that instantiate a CNN module:\n",
        "class CNN(nn.Module):\n",
        "  def __init__(self):\n",
        "    super().__init__()\n",
        "    self.conv1 = nn.Conv2d(in_channels=1, out_channels = 32, kernel_size =3, stride=1, padding=0)\n",
        "    self.pool = nn.MaxPool2d(kernel_size=2)\n",
        "    self.conv2 = nn.Conv2d(in_channels=32, out_channels = 64, kernel_size =3, stride=1, padding=0)\n",
        "    self.fc1 = nn.Linear(64*5*5, 128)\n",
        "    self.fc2 = nn.Linear(128, 10)\n",
        "    self.relu = nn.ReLU()\n",
        "    self.dropout = nn.Dropout(0.5)\n",
        "\n",
        "\n",
        "  def forward(self, X):\n",
        "    X = self.pool(self.relu(self.conv1(X)))\n",
        "    X = self.pool(self.relu(self.conv2(X)))\n",
        "    X = X.view(-1, 64*5*5)\n",
        "    X = self.relu(self.fc1(X))\n",
        "    X = self.dropout(X)\n",
        "    X = self.relu(self.fc2(X))\n",
        "\n",
        "\n",
        "\n",
        "    return X\n",
        "\n",
        "\n",
        "\n"
      ],
      "metadata": {
        "id": "zyHE7vA49rLh"
      },
      "execution_count": 16,
      "outputs": []
    },
    {
      "cell_type": "code",
      "source": [
        "torch.manual_seed(42)\n",
        "model = CNN()"
      ],
      "metadata": {
        "id": "aCEUb3qLOORk"
      },
      "execution_count": 17,
      "outputs": []
    },
    {
      "cell_type": "code",
      "source": [
        "model"
      ],
      "metadata": {
        "colab": {
          "base_uri": "https://localhost:8080/"
        },
        "id": "6yZQhl0JOnNi",
        "outputId": "84a1cd41-f39a-4541-b4a2-f0c5704d754d"
      },
      "execution_count": 18,
      "outputs": [
        {
          "output_type": "execute_result",
          "data": {
            "text/plain": [
              "CNN(\n",
              "  (conv1): Conv2d(1, 32, kernel_size=(3, 3), stride=(1, 1))\n",
              "  (pool): MaxPool2d(kernel_size=2, stride=2, padding=0, dilation=1, ceil_mode=False)\n",
              "  (conv2): Conv2d(32, 64, kernel_size=(3, 3), stride=(1, 1))\n",
              "  (fc1): Linear(in_features=1600, out_features=128, bias=True)\n",
              "  (fc2): Linear(in_features=128, out_features=10, bias=True)\n",
              "  (relu): ReLU()\n",
              "  (dropout): Dropout(p=0.5, inplace=False)\n",
              ")"
            ]
          },
          "metadata": {},
          "execution_count": 18
        }
      ]
    },
    {
      "cell_type": "code",
      "source": [
        "#Loss Function Optimizer\n",
        "criterion = nn.CrossEntropyLoss()\n",
        "optimizer = torch.optim.Adam(model.parameters(), lr=0.001)\n"
      ],
      "metadata": {
        "id": "Qwz-58jiQOXC"
      },
      "execution_count": 19,
      "outputs": []
    },
    {
      "cell_type": "code",
      "source": [
        "import time\n",
        "\n",
        "start_time = time.time()\n",
        "#Create variables to track things\n",
        "\n",
        "epochs = 10\n",
        "train_losses =[]\n",
        "val_losses = []\n",
        "train_accuracies =[]\n",
        "val_accuracies = []\n",
        "\n",
        "for epoch in range(epochs):\n",
        "  model.train()\n",
        "  running_loss, correct, total =0.0,0,0\n",
        "  for images, labels in train_loader:\n",
        "    optimizer.zero_grad()\n",
        "    outputs = model(images)\n",
        "    loss = criterion(outputs, labels)\n",
        "    loss.backward()\n",
        "    optimizer.step()\n",
        "    running_loss += loss.item()\n",
        "    _, predicted = torch.max(outputs.data,1)\n",
        "    total += labels.size(0)\n",
        "    correct += (predicted == labels).sum().item()\n",
        "\n",
        "  train_losses.append(running_loss/len(train_loader))\n",
        "  train_accuracies.append(100*correct/total)\n",
        "\n",
        "\n",
        "  model.eval()\n",
        "  running_loss, correct, total = 0.0,0,0\n",
        "  with torch.no_grad():\n",
        "    for images, labels in val_loader:\n",
        "      outputs = model(images)\n",
        "      loss = criterion(outputs, labels)\n",
        "      running_loss +=loss.item()\n",
        "      _, predicted = torch.max(outputs.data,1)\n",
        "      total += labels.size(0)\n",
        "      correct += (predicted ==labels).sum().item()\n",
        "  val_losses.append(running_loss/len(val_loader))\n",
        "  val_accuracies.append(100*correct/total)\n",
        "\n",
        "  print(f'Epoch [{epoch+1}/{epochs}], Train Loss: {train_losses[-1]:.4f}, Val Loss: {val_losses[-1]:.4f}, Train Acc: {train_accuracies[-1]:.2f}, Val Acc: {val_accuracies[-1]:.2f}')\n",
        "\n",
        "\n",
        "current_time = time.time()\n",
        "\n",
        "total = current_time - start_time\n",
        "\n",
        "print(f'Training Time: {total/60} Minutes')"
      ],
      "metadata": {
        "colab": {
          "base_uri": "https://localhost:8080/"
        },
        "id": "PZfOIU6TQiRK",
        "outputId": "80164265-3408-4078-b589-c183a7de93e6"
      },
      "execution_count": 20,
      "outputs": [
        {
          "output_type": "stream",
          "name": "stdout",
          "text": [
            "Epoch [1/10], Train Loss: 0.3480, Val Loss: 0.0718, Train Acc: 89.55, Val Acc: 97.84\n",
            "Epoch [2/10], Train Loss: 0.0971, Val Loss: 0.0624, Train Acc: 97.19, Val Acc: 98.10\n",
            "Epoch [3/10], Train Loss: 0.0687, Val Loss: 0.0456, Train Acc: 97.95, Val Acc: 98.66\n",
            "Epoch [4/10], Train Loss: 0.0583, Val Loss: 0.0406, Train Acc: 98.30, Val Acc: 98.83\n",
            "Epoch [5/10], Train Loss: 0.0478, Val Loss: 0.0401, Train Acc: 98.54, Val Acc: 98.83\n",
            "Epoch [6/10], Train Loss: 0.0407, Val Loss: 0.0347, Train Acc: 98.71, Val Acc: 99.08\n",
            "Epoch [7/10], Train Loss: 0.0384, Val Loss: 0.0336, Train Acc: 98.87, Val Acc: 99.07\n",
            "Epoch [8/10], Train Loss: 0.0321, Val Loss: 0.0415, Train Acc: 99.02, Val Acc: 98.99\n",
            "Epoch [9/10], Train Loss: 0.0297, Val Loss: 0.0391, Train Acc: 99.03, Val Acc: 99.06\n",
            "Epoch [10/10], Train Loss: 0.0276, Val Loss: 0.0344, Train Acc: 99.16, Val Acc: 99.17\n",
            "Training Time: 9.031170717875163 Minutes\n"
          ]
        }
      ]
    },
    {
      "cell_type": "code",
      "source": [
        "#Plot the training loss and validation loss as a function of epochs.\n",
        "#Plot the both training accuracy and validation accuracy as a function of epochs\n",
        "\n",
        "plt.figure(figsize=(10,5))\n",
        "plt.subplot(1,2,1)\n",
        "plt.plot(range(1, epochs+1), train_losses, label ='Training_Loss')\n",
        "plt.plot(range(1, epochs+1), val_losses, label = 'Validation_Loss')\n",
        "plt.xlabel('Epochs')\n",
        "plt.ylabel('Loss')\n",
        "plt.legend()\n",
        "plt.title('Training and Validation Loss')\n",
        "\n",
        "plt.subplot(1,2,2)\n",
        "plt.plot(range(1, epochs+1), train_accuracies, label = 'Training_Accuracy')\n",
        "plt.plot (range(1, epochs+1), val_accuracies, label = 'Validation_Accuracy')\n",
        "plt.xlabel('Epochs')\n",
        "plt.ylabel('Accuracy')\n",
        "plt.legend()\n",
        "plt.title('Training and Validation Accuracy')\n",
        "plt.show()\n"
      ],
      "metadata": {
        "id": "xMHosTx4Q4tN",
        "colab": {
          "base_uri": "https://localhost:8080/",
          "height": 487
        },
        "outputId": "893a8bcb-8fb5-4e87-977a-75028ead3c3d"
      },
      "execution_count": 21,
      "outputs": [
        {
          "output_type": "display_data",
          "data": {
            "text/plain": [
              "<Figure size 1000x500 with 2 Axes>"
            ],
            "image/png": "[encoded data removed]"
          },
          "metadata": {}
        }
      ]
    },
    {
      "cell_type": "code",
      "source": [
        "# 5. Evaluate on Test Data\n",
        "model.eval()\n",
        "correct, total =0,0\n",
        "\n",
        "with torch.no_grad():\n",
        "  for images, labels in test_loader:\n",
        "    outputs = model(images)\n",
        "    _, predicted = torch.max(outputs.data,1)\n",
        "    total += labels.size(0)\n",
        "    correct += (predicted == labels).sum().item()\n",
        "  test_accuracy = 100*correct/total\n",
        "  print(f'Test_Accuracy: {test_accuracy:.2f}%')\n",
        "\n",
        "\n"
      ],
      "metadata": {
        "id": "gPqWLMxqJtad",
        "colab": {
          "base_uri": "https://localhost:8080/"
        },
        "outputId": "6682d6d1-62b1-4845-824d-411d9faec2ff"
      },
      "execution_count": 23,
      "outputs": [
        {
          "output_type": "stream",
          "name": "stdout",
          "text": [
            "Test_Accuracy: 99.26%\n"
          ]
        }
      ]
    },
    {
      "cell_type": "code",
      "source": [],
      "metadata": {
        "id": "KhZNlsLXYGKy"
      },
      "execution_count": null,
      "outputs": []
    }
  ]
}